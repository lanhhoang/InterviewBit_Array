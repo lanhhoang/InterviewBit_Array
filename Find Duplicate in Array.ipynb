{
 "cells": [
  {
   "cell_type": "markdown",
   "metadata": {},
   "source": [
    "Given a read only array of n + 1 integers between 1 and n, find one number that repeats in linear time using less than O(n) space and traversing the stream sequentially O(1) times.\n",
    "\n",
    "Sample Input:\n",
    "\n",
    "[3 4 1 4 1]\n",
    "Sample Output:\n",
    "\n",
    "1\n",
    "If there are multiple possible answers ( like in the sample case above ), output any one.\n",
    "\n",
    "If there is no duplicate, output -1"
   ]
  },
  {
   "cell_type": "code",
   "execution_count": 1,
   "metadata": {
    "collapsed": true
   },
   "outputs": [],
   "source": [
    "from collections import defaultdict\n",
    "class Solution:\n",
    "    # @param A : tuple of integers\n",
    "    # @return an integer\n",
    "    def repeatedNumber(self, A):\n",
    "        if len(A) <= 1: return -1\n",
    "        output = defaultdict(int)\n",
    "        for i in A:\n",
    "            output[i] += 1\n",
    "            if output[i] > 1: return i\n",
    "        return -1"
   ]
  },
  {
   "cell_type": "code",
   "execution_count": null,
   "metadata": {
    "collapsed": true
   },
   "outputs": [],
   "source": []
  }
 ],
 "metadata": {
  "kernelspec": {
   "display_name": "Python [default]",
   "language": "python",
   "name": "python3"
  },
  "language_info": {
   "codemirror_mode": {
    "name": "ipython",
    "version": 3
   },
   "file_extension": ".py",
   "mimetype": "text/x-python",
   "name": "python",
   "nbconvert_exporter": "python",
   "pygments_lexer": "ipython3",
   "version": "3.5.4"
  }
 },
 "nbformat": 4,
 "nbformat_minor": 2
}
