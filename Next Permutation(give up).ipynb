{
 "cells": [
  {
   "cell_type": "markdown",
   "metadata": {},
   "source": [
    "Implement the next permutation, which rearranges numbers into the numerically next greater permutation of numbers.\n",
    "\n",
    "If such arrangement is not possible, it must be rearranged as the lowest possible order ie, sorted in an ascending order.\n",
    "\n",
    "The replacement must be in-place, do not allocate extra memory.\n",
    "\n",
    "Examples:\n",
    "\n",
    "1,2,3 → 1,3,2\n",
    "\n",
    "3,2,1 → 1,2,3\n",
    "\n",
    "1,1,5 → 1,5,1\n",
    "\n",
    "20, 50, 113 → 20, 113, 50\n",
    "Inputs are in the left-hand column and its corresponding outputs are in the right-hand column.\n",
    "\n",
    "Warning : DO NOT USE LIBRARY FUNCTION FOR NEXT PERMUTATION. Use"
   ]
  },
  {
   "cell_type": "code",
   "execution_count": 1,
   "metadata": {
    "collapsed": true
   },
   "outputs": [],
   "source": [
    "class Solution:\n",
    "    # @param A : list of integers\n",
    "    # @return the same list of integer after modification\n",
    "    def nextPermutation(self, A):\n",
    "        N = len(A)\n",
    "        if N == 1:\n",
    "            return A \n",
    "        else:\n",
    "            i = N-2\n",
    "            while i >= 0 and A[i] >= A[i+1]:\n",
    "                i -= 1\n",
    "            if i == -1:\n",
    "                return A[::-1]\n",
    "            else:\n",
    "                for j in range(N-1, i, -1):\n",
    "                    if A[j] > A[i]:\n",
    "                        break\n",
    "                A[i], A[j] = A[j], A[i]\n",
    "                a, b = i+1, N-1\n",
    "                while a < b:\n",
    "                    A[a], A[b] = A[b], A[a]\n",
    "                    a += 1\n",
    "                    b -= 1\n",
    "            return A "
   ]
  },
  {
   "cell_type": "code",
   "execution_count": null,
   "metadata": {
    "collapsed": true
   },
   "outputs": [],
   "source": []
  }
 ],
 "metadata": {
  "kernelspec": {
   "display_name": "Python [default]",
   "language": "python",
   "name": "python3"
  },
  "language_info": {
   "codemirror_mode": {
    "name": "ipython",
    "version": 3
   },
   "file_extension": ".py",
   "mimetype": "text/x-python",
   "name": "python",
   "nbconvert_exporter": "python",
   "pygments_lexer": "ipython3",
   "version": "3.5.4"
  }
 },
 "nbformat": 4,
 "nbformat_minor": 2
}
