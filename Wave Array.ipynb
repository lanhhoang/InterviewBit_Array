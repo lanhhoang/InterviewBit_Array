{
 "cells": [
  {
   "cell_type": "markdown",
   "metadata": {},
   "source": [
    "Given an array of integers, sort the array into a wave like array and return it, \n",
    "In other words, arrange the elements into a sequence such that a1 >= a2 <= a3 >= a4 <= a5.....\n",
    "\n",
    "Example\n",
    "\n",
    "Given [1, 2, 3, 4]\n",
    "\n",
    "One possible answer : [2, 1, 4, 3]\n",
    "Another possible answer : [4, 1, 3, 2]"
   ]
  },
  {
   "cell_type": "code",
   "execution_count": 1,
   "metadata": {
    "collapsed": true
   },
   "outputs": [],
   "source": [
    "def wave(A):\n",
    "    if len(A) == 0: return []\n",
    "    elif len(A) == 1: return A\n",
    "    result = []\n",
    "    a_len = len(A)\n",
    "    A = sorted(A)\n",
    "    for i in range(1, a_len-1):\n",
    "        if i % 2 == 1 and A[i-1] >= A[i]:\n",
    "            result.append(A[i-1])\n",
    "        elif i % 2 == 1 and A[i-1] < A[i]:\n",
    "            A[i], A[i-1] = A[i-1], A[i]\n",
    "            result.append(A[i-1])\n",
    "        elif i % 2 == 0 and A[i-1] <= A[i]:\n",
    "            result.append(A[i-1])\n",
    "        elif i % 2 == 0 and A[i-1] > A[i]:\n",
    "            A[i], A[i-1] = A[i-1], A[i]\n",
    "            result.append(A[i-1])\n",
    "    current = A[a_len - 2]\n",
    "    nextt = A[a_len - 1]\n",
    "    if (a_len - 2) % 2 == 1 and current <= nextt:\n",
    "        result.append(current)\n",
    "        result.append(nextt)\n",
    "    elif (a_len - 2) % 2 == 1 and current > nextt:\n",
    "        current, nextt = nextt, current\n",
    "        result.append(current)\n",
    "        result.append(nextt)\n",
    "    if (a_len - 2) % 2 == 0 and current >= nextt:\n",
    "        result.append(current)\n",
    "        result.append(nextt)\n",
    "    elif (a_len - 2) % 2 == 0 and current < nextt:\n",
    "        current, nextt = nextt, current\n",
    "        result.append(current)\n",
    "        result.append(nextt)    \n",
    "\n",
    "    return result"
   ]
  },
  {
   "cell_type": "code",
   "execution_count": 2,
   "metadata": {
    "collapsed": true
   },
   "outputs": [],
   "source": [
    "import math\n",
    "\n",
    "class Solution:\n",
    "    # @param A : list of integers\n",
    "    # @return a list of integers\n",
    "    def wave(self, A):\n",
    "        A.sort()\n",
    "        \n",
    "        for i in range(1, len(A), 2):\n",
    "            A[i], A[i - 1] = A[i - 1], A[i]\n",
    "        \n",
    "        return A"
   ]
  },
  {
   "cell_type": "code",
   "execution_count": null,
   "metadata": {
    "collapsed": true
   },
   "outputs": [],
   "source": []
  }
 ],
 "metadata": {
  "kernelspec": {
   "display_name": "Python [default]",
   "language": "python",
   "name": "python3"
  },
  "language_info": {
   "codemirror_mode": {
    "name": "ipython",
    "version": 3
   },
   "file_extension": ".py",
   "mimetype": "text/x-python",
   "name": "python",
   "nbconvert_exporter": "python",
   "pygments_lexer": "ipython3",
   "version": "3.5.4"
  }
 },
 "nbformat": 4,
 "nbformat_minor": 2
}
