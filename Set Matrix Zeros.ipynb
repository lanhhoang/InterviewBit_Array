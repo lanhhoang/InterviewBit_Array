{
 "cells": [
  {
   "cell_type": "markdown",
   "metadata": {},
   "source": [
    "Given an m x n matrix of 0s and 1s, if an element is 0, set its entire row and column to 0.\n",
    "\n",
    "Do it in place.\n",
    "\n",
    "Example\n",
    "\n",
    "Given array A as\n",
    "\n",
    "1 0 1\n",
    "1 1 1 \n",
    "1 1 1\n",
    "On returning, the array A should be :\n",
    "\n",
    "0 0 0\n",
    "1 0 1\n",
    "1 0 1\n",
    "Note that this will be evaluated on the extra memory used. Try to minimize the space and time complexity."
   ]
  },
  {
   "cell_type": "code",
   "execution_count": 8,
   "metadata": {},
   "outputs": [],
   "source": [
    "class Solution:\n",
    "    # @param A : list of list of integers\n",
    "    # @return the same list modified\n",
    "    def setZeroes(self, A):\n",
    "        #brute force\n",
    "        m = len(A)\n",
    "        if m == 0: return []\n",
    "        n = len(A[0])\n",
    "        if n == 0: return A\n",
    "        zero_col = set()\n",
    "        zero_row = set()\n",
    "        \n",
    "        for i in range(m):\n",
    "            for j in range(n):\n",
    "                if A[i][j] == 0:\n",
    "                    zero_row.add(i)\n",
    "                    zero_col.add(j)\n",
    "        \n",
    "        for i in zero_col:\n",
    "            for j in range(m):\n",
    "                A[j][i] = 0\n",
    "                \n",
    "        for i in zero_row:\n",
    "            A[i] = [0] * n\n",
    "            \n",
    "        return A"
   ]
  },
  {
   "cell_type": "code",
   "execution_count": null,
   "metadata": {
    "collapsed": true
   },
   "outputs": [],
   "source": []
  }
 ],
 "metadata": {
  "kernelspec": {
   "display_name": "Python [default]",
   "language": "python",
   "name": "python3"
  },
  "language_info": {
   "codemirror_mode": {
    "name": "ipython",
    "version": 3
   },
   "file_extension": ".py",
   "mimetype": "text/x-python",
   "name": "python",
   "nbconvert_exporter": "python",
   "pygments_lexer": "ipython3",
   "version": "3.5.4"
  }
 },
 "nbformat": 4,
 "nbformat_minor": 2
}
