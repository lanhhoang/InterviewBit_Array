{
 "cells": [
  {
   "cell_type": "markdown",
   "metadata": {},
   "source": [
    "You are given an n x n 2D matrix representing an image.\n",
    "\n",
    "Rotate the image by 90 degrees (clockwise).\n",
    "\n",
    "You need to do this in place.\n",
    "\n",
    "Note that if you end up using an additional array, you will only receive partial score.\n",
    "\n",
    "Example:\n",
    "\n",
    "If the array is\n",
    "\n",
    "[\n",
    "    [1, 2],\n",
    "    [3, 4]\n",
    "]\n",
    "Then the rotated array becomes:\n",
    "\n",
    "[\n",
    "    [3, 1],\n",
    "    [4, 2]\n",
    "]"
   ]
  },
  {
   "cell_type": "code",
   "execution_count": 2,
   "metadata": {
    "collapsed": true
   },
   "outputs": [],
   "source": [
    "class Solution:\n",
    "    # @param A : list of list of integers\n",
    "    # @return the same list modified\n",
    "    def rotate(self, A):\n",
    "        # transpose the matrix\n",
    "        for i in range(len(A)):\n",
    "            for j in range(i, len(A)):\n",
    "                A[i][j], A[j][i] = A[j][i], A[i][j]\n",
    "        N = len(A)\n",
    "        # swap columns moving inwards from outwards\n",
    "        for i in range(N/2):\n",
    "            for j in range(N):\n",
    "                A[j][i], A[j][N-1-i] = A[j][N-1-i],A[j][i]\n",
    "        return (A)"
   ]
  },
  {
   "cell_type": "code",
   "execution_count": 3,
   "metadata": {
    "collapsed": true
   },
   "outputs": [],
   "source": [
    "import copy\n",
    "class Solution:\n",
    "    # @param A : list of list of integers\n",
    "    # @return the same list modified\n",
    "    def rotate(self, A):\n",
    "        m = len(A)\n",
    "        if m == 0: return A\n",
    "        n = len(A[0])\n",
    "        \n",
    "        #simple way\n",
    "        output = copy.deepcopy(A)\n",
    "        cur_col = 0\n",
    "        for i in range(m):\n",
    "            cur_row = m-1\n",
    "            for j in range(n):\n",
    "                output[i][j] = A[cur_row][cur_col]\n",
    "                cur_row -= 1\n",
    "            cur_col += 1\n",
    "        \n",
    "        return output\n",
    "        '''\n",
    "        A:\n",
    "        [[0,1,2],\n",
    "         [3,4,5],\n",
    "         [6,7,8]]\n",
    "        output:\n",
    "        [[6,3,0],\n",
    "         [7,4,1],\n",
    "         [8,5,2]]\n",
    "        '''"
   ]
  }
 ],
 "metadata": {
  "kernelspec": {
   "display_name": "Python [default]",
   "language": "python",
   "name": "python3"
  },
  "language_info": {
   "codemirror_mode": {
    "name": "ipython",
    "version": 3
   },
   "file_extension": ".py",
   "mimetype": "text/x-python",
   "name": "python",
   "nbconvert_exporter": "python",
   "pygments_lexer": "ipython3",
   "version": "3.5.4"
  }
 },
 "nbformat": 4,
 "nbformat_minor": 2
}
