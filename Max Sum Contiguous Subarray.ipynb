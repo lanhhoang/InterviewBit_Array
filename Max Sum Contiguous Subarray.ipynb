{
 "cells": [
  {
   "cell_type": "markdown",
   "metadata": {},
   "source": [
    "Find the contiguous subarray within an array (containing at least one number) which has the largest sum.\n",
    "\n",
    "For example:\n",
    "\n",
    "Given the array [-2,1,-3,4,-1,2,1,-5,4],\n",
    "\n",
    "the contiguous subarray [4,-1,2,1] has the largest sum = 6.\n",
    "\n",
    "For this problem, return the maximum sum."
   ]
  },
  {
   "cell_type": "code",
   "execution_count": null,
   "metadata": {
    "collapsed": true
   },
   "outputs": [],
   "source": [
    "def maxSubArray(A):\n",
    "    ans = 0\n",
    "    sumup = 0\n",
    "    a_len = len(A)\n",
    "    for i in range(a_len):\n",
    "        if sumup + A[i] > 0:\n",
    "            sumup += A[i]\n",
    "        else:\n",
    "            sumup = 0\n",
    "        ans = max(ans, sumup)\n",
    "    if ans == 0: return max(A)\n",
    "    else: return ans"
   ]
  }
 ],
 "metadata": {
  "kernelspec": {
   "display_name": "Python [default]",
   "language": "python",
   "name": "python3"
  },
  "language_info": {
   "codemirror_mode": {
    "name": "ipython",
    "version": 3
   },
   "file_extension": ".py",
   "mimetype": "text/x-python",
   "name": "python",
   "nbconvert_exporter": "python",
   "pygments_lexer": "ipython3",
   "version": "3.5.4"
  }
 },
 "nbformat": 4,
 "nbformat_minor": 2
}
