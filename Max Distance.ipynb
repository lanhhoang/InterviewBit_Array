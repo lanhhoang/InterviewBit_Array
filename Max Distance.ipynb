{
 "cells": [
  {
   "cell_type": "markdown",
   "metadata": {},
   "source": [
    "Given an array A of integers, find the maximum of j - i subjected to the constraint of A[i] <= A[j].\n",
    "\n",
    "If there is no solution possible, return -1.\n",
    "\n",
    "Example :\n",
    "\n",
    "A : [3 5 4 2]\n",
    "\n",
    "Output : 2 \n",
    "for the pair (3, 4)\n"
   ]
  },
  {
   "cell_type": "code",
   "execution_count": 25,
   "metadata": {
    "collapsed": true
   },
   "outputs": [],
   "source": [
    "class Solution:\n",
    "    # @param A : tuple of integers\n",
    "    # @return an integer\n",
    "    def maximumGap(self, A):\n",
    "        if len(A) == 0:\n",
    "            return -1\n",
    "        # arr[i][j] = max distance starting from i and including up to j\n",
    "        index = list(range(len(A)))\n",
    "        index.sort(key=lambda x: A[x])\n",
    "        largest_distance = 0\n",
    "        max_index_from_i = [index[-1]] * len(A)\n",
    "        i = len(A) - 2\n",
    "        while i >= 0:\n",
    "            max_index_from_i[i] = max(max_index_from_i[i+1], index[i])\n",
    "            i -= 1\n",
    "        for i in range(len(A) - 1):\n",
    "            largest_distance = max(largest_distance, max_index_from_i[i] - index[i])\n",
    "        if largest_distance <= 0:\n",
    "            return 0\n",
    "        else:\n",
    "            return largest_distance\n",
    "        '''\n",
    "        #brute force: O(n^2)\n",
    "        for i in range(0, a_len - 1):\n",
    "            for j in range(i, a_len):\n",
    "                if A[i] <= A[j]:\n",
    "                    maximum = max(maximum, j-i)\n",
    "                    \n",
    "        return maximum\n",
    "        '''"
   ]
  },
  {
   "cell_type": "markdown",
   "metadata": {},
   "source": [
    "Let us say we sort the array. Note that we cannot just blindly sort the array. We need to make sure that we also store the original index of the values when we are sorting the array.\n",
    "\n",
    "Now iterate over every element in the sorted array as A[i]. Let us say index[i] stores the actual index of A[i].\n",
    "\n",
    "Now we are looking for all values of A[j] which are bigger than A[i]. Since the array is sorted, all the elements to the right of A[i] will qualify for being A[j]. \n",
    "Since we want to maximize index[j] - index[i], and index[i] is fixed, we are essentially looking at max index[j] for all j > i.\n",
    "\n",
    "This seems much easier. Can you think of a solution from this point?"
   ]
  },
  {
   "cell_type": "code",
   "execution_count": 28,
   "metadata": {},
   "outputs": [
    {
     "data": {
      "text/plain": [
       "[6, 0, 1, 3, 2, 5, 4]"
      ]
     },
     "execution_count": 28,
     "metadata": {},
     "output_type": "execute_result"
    }
   ],
   "source": [
    "A = [2,3,5,4,7,6,1]\n",
    "B = [i for i, _ in enumerate(A)]\n",
    "B = [i for _ , i in sorted(zip(A,B))]\n",
    "B"
   ]
  },
  {
   "cell_type": "code",
   "execution_count": 41,
   "metadata": {},
   "outputs": [],
   "source": [
    "def maximumGap(A):\n",
    "    #output: max indice diff j - i\n",
    "    if len(A) == 0: return -1\n",
    "    elif len(A) == 1: return 0\n",
    "    maximum = -1\n",
    "    a_len = len(A)\n",
    "    \n",
    "    B = [i for i, _ in enumerate(A)] # index list\n",
    "    B = [i for _ , i in sorted(zip(A,B))] #index sorted with num order\n",
    "    print(B)\n",
    "    for i in range(0, a_len - 1):\n",
    "        #values are sorted, so right must be great than left\n",
    "        #A[i]: left, A[j]: right\n",
    "        #now only need to check i < j \n",
    "        jdx = max(B[i+1:])\n",
    "        maximum = max(maximum, jdx - B[i])\n",
    "    else: return maximum"
   ]
  },
  {
   "cell_type": "code",
   "execution_count": 42,
   "metadata": {},
   "outputs": [
    {
     "name": "stdout",
     "output_type": "stream",
     "text": [
      "[6, 0, 1, 3, 2, 5, 4]\n"
     ]
    },
    {
     "data": {
      "text/plain": [
       "5"
      ]
     },
     "execution_count": 42,
     "metadata": {},
     "output_type": "execute_result"
    }
   ],
   "source": [
    "maximumGap(A)"
   ]
  },
  {
   "cell_type": "code",
   "execution_count": 43,
   "metadata": {},
   "outputs": [
    {
     "name": "stdout",
     "output_type": "stream",
     "text": [
      "[2, 1, 0]\n"
     ]
    },
    {
     "data": {
      "text/plain": [
       "-1"
      ]
     },
     "execution_count": 43,
     "metadata": {},
     "output_type": "execute_result"
    }
   ],
   "source": [
    "maximumGap([3,2,1])"
   ]
  },
  {
   "cell_type": "code",
   "execution_count": null,
   "metadata": {
    "collapsed": true
   },
   "outputs": [],
   "source": []
  }
 ],
 "metadata": {
  "kernelspec": {
   "display_name": "Python [default]",
   "language": "python",
   "name": "python3"
  },
  "language_info": {
   "codemirror_mode": {
    "name": "ipython",
    "version": 3
   },
   "file_extension": ".py",
   "mimetype": "text/x-python",
   "name": "python",
   "nbconvert_exporter": "python",
   "pygments_lexer": "ipython3",
   "version": "3.5.4"
  }
 },
 "nbformat": 4,
 "nbformat_minor": 2
}
