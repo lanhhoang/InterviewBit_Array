{
 "cells": [
  {
   "cell_type": "markdown",
   "metadata": {},
   "source": [
    "Given a collection of intervals, merge all overlapping intervals.\n",
    "\n",
    "For example:\n",
    "\n",
    "Given [1,3],[2,6],[8,10],[15,18],\n",
    "\n",
    "return [1,6],[8,10],[15,18].\n",
    "\n",
    "Make sure the returned intervals are sorted."
   ]
  },
  {
   "cell_type": "code",
   "execution_count": 1,
   "metadata": {
    "collapsed": true
   },
   "outputs": [],
   "source": [
    "# Definition for an interval.\n",
    "# class Interval:\n",
    "#     def __init__(self, s=0, e=0):\n",
    "#         self.start = s\n",
    "#         self.end = e\n",
    "\n",
    "class Solution:\n",
    "    # @param intervals, a list of Intervals\n",
    "    # @return a list of Interval\n",
    "    def merge(self, intervals):\n",
    "        #not sorted yet\n",
    "        #sort first\n",
    "        if len(intervals) == 0: return []\n",
    "        interval_len = len(intervals)\n",
    "        intervals.sort(key = lambda k: k.start)\n",
    "\n",
    "        i = 1\n",
    "        while i < len(intervals):\n",
    "            if i >= 1 and intervals[i].start <= intervals[i-1].end:\n",
    "                intervals[i].start = intervals[i-1].start\n",
    "                if intervals[i].end < intervals[i-1].end:\n",
    "                    intervals[i].end = intervals[i-1].end\n",
    "                intervals.pop(i-1)\n",
    "            else: i += 1\n",
    "        return intervals"
   ]
  },
  {
   "cell_type": "code",
   "execution_count": null,
   "metadata": {
    "collapsed": true
   },
   "outputs": [],
   "source": []
  }
 ],
 "metadata": {
  "kernelspec": {
   "display_name": "Python [default]",
   "language": "python",
   "name": "python3"
  },
  "language_info": {
   "codemirror_mode": {
    "name": "ipython",
    "version": 3
   },
   "file_extension": ".py",
   "mimetype": "text/x-python",
   "name": "python",
   "nbconvert_exporter": "python",
   "pygments_lexer": "ipython3",
   "version": "3.5.4"
  }
 },
 "nbformat": 4,
 "nbformat_minor": 2
}
