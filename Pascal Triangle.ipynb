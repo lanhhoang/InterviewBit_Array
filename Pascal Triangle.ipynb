{
 "cells": [
  {
   "cell_type": "markdown",
   "metadata": {},
   "source": [
    "Given numRows, generate the first numRows of Pascal’s triangle.\n",
    "\n",
    "Pascal’s triangle : To generate A[C] in row R, sum up A’[C] and A’[C-1] from previous row R - 1.\n",
    "\n",
    "Example:\n",
    "\n",
    "Given numRows = 5,\n",
    "\n",
    "Return\n",
    "\n",
    "[\n",
    "     [1],\n",
    "     [1,1],\n",
    "     [1,2,1],\n",
    "     [1,3,3,1],\n",
    "     [1,4,6,4,1]\n",
    "]"
   ]
  },
  {
   "cell_type": "code",
   "execution_count": 4,
   "metadata": {
    "collapsed": true
   },
   "outputs": [],
   "source": [
    "class Solution:\n",
    "    # @param A : integer\n",
    "    # @return a list of list of integers\n",
    "    def generate(self, A):\n",
    "        if A == 0: return []\n",
    "        output = []\n",
    "        for i in range(1, A+1):\n",
    "            appending = [0] * i\n",
    "            output.append(appending)\n",
    "        #set all left and right borders to be 1\n",
    "        for i in range(len(output)):\n",
    "            output[i][0] = 1\n",
    "            output[i][-1] = 1\n",
    "        #return if no inside contents needed to be updated\n",
    "        if len(output) <= 2: return output     \n",
    "        \n",
    "        #fill out contents inside\n",
    "        row = 2 #start at third row\n",
    "        while row < len(output):\n",
    "            for i in range(1, len(output[row]) - 1):\n",
    "                #exclude indice 0 and -1 in every row\n",
    "                output[row][i] = output[row-1][i-1]+output[row-1][i]\n",
    "            row += 1\n",
    "        return output"
   ]
  },
  {
   "cell_type": "code",
   "execution_count": 5,
   "metadata": {
    "collapsed": true
   },
   "outputs": [],
   "source": [
    "class Solution:\n",
    "    # @param A : integer\n",
    "    # @return a list of list of integers\n",
    "    def generate(self, A):\n",
    "        if A <= 0:\n",
    "            return []\n",
    "        result = [[1]]\n",
    "        for r in range(1, A):\n",
    "            row = [1]\n",
    "            for i in range(1,r):\n",
    "                row.append(result[r-1][i-1] + result[r-1][i])\n",
    "            row.append(1)\n",
    "            result.append(row)\n",
    "        return result"
   ]
  },
  {
   "cell_type": "code",
   "execution_count": null,
   "metadata": {
    "collapsed": true
   },
   "outputs": [],
   "source": []
  }
 ],
 "metadata": {
  "kernelspec": {
   "display_name": "Python [default]",
   "language": "python",
   "name": "python3"
  },
  "language_info": {
   "codemirror_mode": {
    "name": "ipython",
    "version": 3
   },
   "file_extension": ".py",
   "mimetype": "text/x-python",
   "name": "python",
   "nbconvert_exporter": "python",
   "pygments_lexer": "ipython3",
   "version": "3.5.4"
  }
 },
 "nbformat": 4,
 "nbformat_minor": 2
}
