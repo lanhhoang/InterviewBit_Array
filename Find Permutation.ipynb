{
 "cells": [
  {
   "cell_type": "markdown",
   "metadata": {},
   "source": [
    "Given a positive integer n and a string s consisting only of letters D or I, you have to find any permutation of first n positive integer that satisfy the given input string.\n",
    "\n",
    "D means the next number is smaller, while I means the next number is greater.\n",
    "\n",
    "Notes\n",
    "\n",
    "Length of given string s will always equal to n - 1\n",
    "Your solution should run in linear time and space.\n",
    "Example :\n",
    "\n",
    "Input 1:\n",
    "\n",
    "n = 3\n",
    "\n",
    "s = ID\n",
    "\n",
    "Return: [1, 3, 2]\n"
   ]
  },
  {
   "cell_type": "code",
   "execution_count": 47,
   "metadata": {},
   "outputs": [],
   "source": [
    "from collections import Counter\n",
    "def findPerm(A, B):\n",
    "    #Length of given string s will always equal to n - 1\n",
    "    #D means the next number is smaller, while I means the next number is greater.\n",
    "    #output: nth integers in a list\n",
    "    #s = 'DDI'\n",
    "    #n = 4\n",
    "    #1st > 2nd > 3rd < 4th\n",
    "    s = [A[0]] + list(A)\n",
    "    s_count = Counter(s)\n",
    "    output = [0]*B\n",
    "    idx = 0\n",
    "    min_max = (B + 1)-s_count['I']\n",
    "    max_min = 0+s_count['D']\n",
    "    \n",
    "    while idx < B:\n",
    "        if s[idx] == 'D' :\n",
    "            output[idx] = max_min\n",
    "            max_min -= 1\n",
    "        elif s[idx] == 'I':\n",
    "            output[idx] = min_max\n",
    "            min_max += 1\n",
    "        idx += 1\n",
    "    return output"
   ]
  },
  {
   "cell_type": "code",
   "execution_count": 48,
   "metadata": {
    "collapsed": true
   },
   "outputs": [],
   "source": [
    "A = 'IIIIIII'\n",
    "B = 8"
   ]
  },
  {
   "cell_type": "code",
   "execution_count": 49,
   "metadata": {},
   "outputs": [
    {
     "data": {
      "text/plain": [
       "[1, 2, 3, 4, 5, 6, 7, 8]"
      ]
     },
     "execution_count": 49,
     "metadata": {},
     "output_type": "execute_result"
    }
   ],
   "source": [
    "findPerm(A, B)"
   ]
  },
  {
   "cell_type": "code",
   "execution_count": 46,
   "metadata": {
    "collapsed": true
   },
   "outputs": [],
   "source": [
    "class Solution:\n",
    "    # @param A : string\n",
    "    # @param B : integer\n",
    "    # @return a list of integers\n",
    "    def findPerm(self, A, B):\n",
    "        mn, mx = 1, B\n",
    "        result = []\n",
    "        for x in A:\n",
    "            if x == 'D':\n",
    "                result.append(mx)\n",
    "                mx -= 1\n",
    "            elif x == 'I':\n",
    "                result.append(mn)\n",
    "                mn += 1\n",
    "        result.append(mn)\n",
    "        return result"
   ]
  },
  {
   "cell_type": "code",
   "execution_count": null,
   "metadata": {
    "collapsed": true
   },
   "outputs": [],
   "source": []
  }
 ],
 "metadata": {
  "kernelspec": {
   "display_name": "Python [default]",
   "language": "python",
   "name": "python3"
  },
  "language_info": {
   "codemirror_mode": {
    "name": "ipython",
    "version": 3
   },
   "file_extension": ".py",
   "mimetype": "text/x-python",
   "name": "python",
   "nbconvert_exporter": "python",
   "pygments_lexer": "ipython3",
   "version": "3.5.4"
  }
 },
 "nbformat": 4,
 "nbformat_minor": 2
}
