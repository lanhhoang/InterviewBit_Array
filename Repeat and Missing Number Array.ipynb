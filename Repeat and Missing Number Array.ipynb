{
 "cells": [
  {
   "cell_type": "markdown",
   "metadata": {},
   "source": [
    "Please Note:\n",
    "\n",
    "There are certain problems which are asked in the interview to also check how you take care of overflows in your problem.\n",
    "This is one of those problems.\n",
    "Please take extra care to make sure that you are type-casting your ints to long properly and at all places. Try to verify if your solution works if number of elements is as large as 105\n",
    "\n",
    "Food for thought :\n",
    "Even though it might not be required in this problem, in some cases, you might be required to order the operations cleverly so that the numbers do not overflow. \n",
    "For example, if you need to calculate n! / k! where n! is factorial(n), one approach is to calculate factorial(n), factorial(k) and then divide them. \n",
    "Another approach is to only multiple numbers from k + 1 ... n to calculate the result. \n",
    "Obviously approach 1 is more susceptible to overflows.\n",
    "You are given a read only array of n integers from 1 to n.\n",
    "\n",
    "Each integer appears exactly once except A which appears twice and B which is missing.\n",
    "\n",
    "Return A and B.\n",
    "\n",
    "Note: Your algorithm should have a linear runtime complexity. Could you implement it without using extra memory?\n",
    "\n",
    "Note that in your output A should precede B.\n",
    "\n",
    "Example:\n",
    "\n",
    "Input:[3 1 2 5 3] \n",
    "\n",
    "Output:[3, 4] \n",
    "\n",
    "A = 3, B = 4"
   ]
  },
  {
   "cell_type": "code",
   "execution_count": 9,
   "metadata": {
    "collapsed": true
   },
   "outputs": [],
   "source": [
    "from collections import Counter\n",
    "def repeatedNumber(A):\n",
    "    a_len = len(A)\n",
    "    A = Counter(A)\n",
    "    output = [0] * 2\n",
    "    for i in range(1, a_len+1):\n",
    "        A[i] -= 1\n",
    "        if A[i] == 0:\n",
    "            A.pop(i)\n",
    "        elif A[i] == 1:\n",
    "            output[0] = i\n",
    "        else:\n",
    "            output[1] = i\n",
    "    return output"
   ]
  },
  {
   "cell_type": "code",
   "execution_count": 10,
   "metadata": {},
   "outputs": [
    {
     "data": {
      "text/plain": [
       "[2, 5]"
      ]
     },
     "execution_count": 10,
     "metadata": {},
     "output_type": "execute_result"
    }
   ],
   "source": [
    "A = [1,2,2,3,4,6]\n",
    "repeatedNumber(A)"
   ]
  },
  {
   "cell_type": "code",
   "execution_count": 11,
   "metadata": {
    "collapsed": true
   },
   "outputs": [],
   "source": [
    " def repeatedNumber(A):\n",
    "    total = sum(A)\n",
    "    expected = (int) (len(A)*(len(A)+1)/2)\n",
    "    s = set()\n",
    "    a = None\n",
    "    for i in range(0, len(A)):\n",
    "        if A[i] in s:\n",
    "            a = A[i]\n",
    "            break\n",
    "        s.add(A[i])\n",
    "    b = expected - total + a\n",
    "    return a,b"
   ]
  },
  {
   "cell_type": "code",
   "execution_count": null,
   "metadata": {
    "collapsed": true
   },
   "outputs": [],
   "source": [
    "def repeatedNumber(A):\n",
    "    size = len(A) + 1\n",
    "    count = [0] * size\n",
    "\n",
    "    for val in A:\n",
    "        count[val] += 1\n",
    "        res1 = 0\n",
    "        res2 = 0\n",
    "    for idx, val in enumerate(count):\n",
    "        if val == 2:\n",
    "            res1 = idx\n",
    "        if val == 0:\n",
    "            res2 = idx\n",
    "\n",
    "    return res1, res2"
   ]
  }
 ],
 "metadata": {
  "kernelspec": {
   "display_name": "Python [default]",
   "language": "python",
   "name": "python3"
  },
  "language_info": {
   "codemirror_mode": {
    "name": "ipython",
    "version": 3
   },
   "file_extension": ".py",
   "mimetype": "text/x-python",
   "name": "python",
   "nbconvert_exporter": "python",
   "pygments_lexer": "ipython3",
   "version": "3.5.4"
  }
 },
 "nbformat": 4,
 "nbformat_minor": 2
}
