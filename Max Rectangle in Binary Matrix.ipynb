{
 "cells": [
  {
   "cell_type": "markdown",
   "metadata": {},
   "source": [
    "Given a 2D binary matrix filled with 0’s and 1’s, find the largest rectangle containing all ones and return its area.\n",
    "\n",
    "Bonus if you can solve it in O(n^2) or less.\n",
    "\n",
    "Example :\n",
    "\n",
    "A : [  1 1 1\n",
    "       0 1 1\n",
    "       1 0 0 \n",
    "    ]\n",
    "\n",
    "Output : 4 \n",
    "\n",
    "As the max area rectangle is created by the 2x2 rectangle created by (0,1), (0,2), (1,1) and (1,2)\n"
   ]
  },
  {
   "cell_type": "code",
   "execution_count": 14,
   "metadata": {
    "collapsed": true
   },
   "outputs": [],
   "source": [
    "#https://www.youtube.com/watch?v=g8bSdXCG-lA\n",
    "\n",
    "def maximalRectangle(A):\n",
    "    noRows = len(A)\n",
    "    noCol = len(A[0])\n",
    "    stackk = []\n",
    "    maxxA = 0\n",
    "    histogram = []\n",
    "    for x in range(0, noRows):\n",
    "        maxA = 0\n",
    "        area = 0\n",
    "        if x == 0:\n",
    "            histogram = A[0]\n",
    "        else:\n",
    "            for z in range(0, noCol):\n",
    "                if A[x][z] == 0:\n",
    "                    histogram[z] = 0\n",
    "                #if A[x][z]==0, reset the histogram\n",
    "                else:\n",
    "                    histogram[z] = histogram[z] + A[x][z]\n",
    "                #accumulate the height\n",
    "        i = 0\n",
    "        while i < noCol:\n",
    "            #hLength = noCol\n",
    "            if not stackk or histogram[stackk[-1]] <= histogram[i]:\n",
    "                stackk.append(i)\n",
    "                i = i+1\n",
    "            else:\n",
    "                top = stackk.pop()\n",
    "                if not stackk:\n",
    "                    area = histogram[top] * i;\n",
    "                else:\n",
    "                    area = histogram[top] * (i - stackk[-1] - 1)\n",
    "                maxA = max(maxA, area)\n",
    "                \n",
    "        while len(stackk) > 0:\n",
    "            top = stackk.pop()\n",
    "            if not stackk:\n",
    "                area = histogram[top] * i;\n",
    "            else:\n",
    "                area = histogram[top] * (i - stackk[-1] - 1);\n",
    "            maxA = max(maxA, area)\n",
    "        maxxA = max(maxA, maxxA)\n",
    "    return maxxA"
   ]
  },
  {
   "cell_type": "markdown",
   "metadata": {},
   "source": [
    "progress:\n",
    "#[0,1,1,0,1] => histogram\n",
    "i = 0, stackk = []:\n",
    "stackk = [0], i = 1;\n",
    "\n",
    "i = 1, stackk = [0]:\n",
    "stackk = [0,1], i = 2;\n",
    "\n",
    "stackk = [0,1,2], i = 3;\n",
    "top = 2, stackk = [0,1], area = 1*(3-1 -1) = 1, maxA = 1;\n",
    "top = 1, stackk = [0], area = 1*(3-0-1) = 2, maxA = 2;\n",
    "stackk = [0,3], i = 4;\n",
    "stackk = [0,3,4], i = 5; break;\n",
    "\n",
    "top = 4, stackk = [0,3], area = 1;\n",
    "top = 3, stackk = [0], area = 0;\n",
    "top = 0, stackk = [], area = 0; break;"
   ]
  },
  {
   "cell_type": "code",
   "execution_count": 15,
   "metadata": {},
   "outputs": [
    {
     "data": {
      "text/plain": [
       "2"
      ]
     },
     "execution_count": 15,
     "metadata": {},
     "output_type": "execute_result"
    }
   ],
   "source": [
    "A = [[0,1,1,0,1]]\n",
    "maximalRectangle(A)"
   ]
  },
  {
   "cell_type": "code",
   "execution_count": null,
   "metadata": {
    "collapsed": true
   },
   "outputs": [],
   "source": []
  }
 ],
 "metadata": {
  "kernelspec": {
   "display_name": "Python [default]",
   "language": "python",
   "name": "python3"
  },
  "language_info": {
   "codemirror_mode": {
    "name": "ipython",
    "version": 3
   },
   "file_extension": ".py",
   "mimetype": "text/x-python",
   "name": "python",
   "nbconvert_exporter": "python",
   "pygments_lexer": "ipython3",
   "version": "3.5.4"
  }
 },
 "nbformat": 4,
 "nbformat_minor": 2
}
