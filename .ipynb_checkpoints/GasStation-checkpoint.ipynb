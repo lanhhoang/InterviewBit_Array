{
 "cells": [
  {
   "cell_type": "markdown",
   "metadata": {},
   "source": [
    "There are N gas stations along a circular route, where the amount of gas at station i is gas[i].\n",
    "\n",
    "You have a car with an unlimited gas tank and it costs cost[i] of gas to travel from station i to its next station (i+1). You begin the journey with an empty tank at one of the gas stations.\n",
    "\n",
    "Return the minimum starting gas station’s index if you can travel around the circuit once, otherwise return -1.\n",
    "\n",
    "You can only travel in one direction. i to i+1, i+2, ... n-1, 0, 1, 2..\n",
    "Completing the circuit means starting at i and ending up at i again.\n",
    "\n",
    "Example :\n",
    "\n",
    "Input :\n",
    "      Gas :   [1, 2]\n",
    "      Cost :  [2, 1]\n",
    "\n",
    "Output : 1 \n",
    "\n",
    "If you start from index 0, you can fill in gas[0] = 1 amount of gas. Now your tank has 1 unit of gas. But you need cost[0] = 2 gas to travel to station 1. \n",
    "If you start from index 1, you can fill in gas[1] = 2 amount of gas. Now your tank has 2 units of gas. You need cost[1] = 1 gas to get to station 0. So, you travel to station 0 and still have 1 unit of gas left over. You fill in gas[0] = 1 unit of additional gas, making your current gas = 2. It costs you cost[0] = 2 to get to station 1, which you do and complete the circuit. \n"
   ]
  },
  {
   "cell_type": "code",
   "execution_count": 18,
   "metadata": {},
   "outputs": [],
   "source": [
    "def canCompleteCircuit(gas, cost):\n",
    "    '''The bruteforce solution should be obvious. Start from every i, \n",
    "    and check to see if every point is reachable with the gas available. \n",
    "    Return the first i for which you can complete the trip without the gas reaching \n",
    "    a negative number. \n",
    "    This approach would however be quadratic.\n",
    "    Lets look at how we can improve. \n",
    "    \n",
    "    1) If sum of gas is more than sum of cost, \n",
    "    does it imply that there always is a solution ? \n",
    "    2) Lets say you start at i, and hit first negative of \n",
    "    sum(gas) - sum(cost) at j. We know TotalSum(gas) - TotalSum(cost) > 0. \n",
    "    What happens if you start at j + 1 instead ? \n",
    "    Does it cover the validity clause for i to j already ?'''\n",
    "    if sum(gas) < sum(cost): return -1\n",
    "    start_pos = 0\n",
    "    n = len(gas)\n",
    "    while start_pos < n:\n",
    "        checked_gas = 0\n",
    "        remaining_gas = 0\n",
    "        for gas_vol, gas_cost in zip(gas[start_pos:]+gas[:start_pos],\n",
    "            cost[start_pos:]+cost[:start_pos]):\n",
    "            remaining_gas += gas_vol\n",
    "            if remaining_gas >= gas_cost:\n",
    "                remaining_gas -= gas_cost\n",
    "                checked_gas += 1\n",
    "            else: break\n",
    "        if checked_gas == n: return start_pos\n",
    "        start_pos += 1\n",
    "    return -1\n",
    "#O(n**2) or O(n log(n))"
   ]
  },
  {
   "cell_type": "code",
   "execution_count": 19,
   "metadata": {
    "collapsed": true
   },
   "outputs": [],
   "source": [
    "A = [ 959, 329, 987, 951, 942, 410, 282, 376, 581, 507, 546, 299, 564, 114, 474, 163, 953, 481, 337, 395, 679, 21, 335, 846, 878, 961, 663, 413, 610, 937, 32, 831, 239, 899, 659, 718, 738, 7, 209 ]\n",
    "B = [ 862, 783, 134, 441, 177, 416, 329, 43, 997, 920, 289, 117, 573, 672, 574, 797, 512, 887, 571, 657, 420, 686, 411, 817, 185, 326, 891, 122, 496, 905, 910, 810, 226, 462, 759, 637, 517, 237, 884 ]"
   ]
  },
  {
   "cell_type": "code",
   "execution_count": 20,
   "metadata": {},
   "outputs": [
    {
     "data": {
      "text/plain": [
       "-1"
      ]
     },
     "execution_count": 20,
     "metadata": {},
     "output_type": "execute_result"
    }
   ],
   "source": [
    "canCompleteCircuit(A, B)"
   ]
  },
  {
   "cell_type": "code",
   "execution_count": 21,
   "metadata": {
    "collapsed": true
   },
   "outputs": [],
   "source": [
    "def canCompleteCircuit(self, gas, cost):\n",
    "    if sum(gas) < sum(cost):\n",
    "        return -1\n",
    "    #if total gas is less than total gas costed, it means wherever\n",
    "    #the gas station you starts at, you would never complete the circuit\n",
    "    #else you will finally finish the circuit \n",
    "    res = 0\n",
    "    cur_gas = 0\n",
    "    for i in range(len(gas)):\n",
    "        cur_gas += gas[i] - cost[i]\n",
    "        if cur_gas < 0:\n",
    "            cur_gas = 0\n",
    "            res = i + 1\n",
    "    return res\n",
    "#O(n)"
   ]
  },
  {
   "cell_type": "code",
   "execution_count": null,
   "metadata": {
    "collapsed": true
   },
   "outputs": [],
   "source": []
  }
 ],
 "metadata": {
  "kernelspec": {
   "display_name": "Python [default]",
   "language": "python",
   "name": "python3"
  },
  "language_info": {
   "codemirror_mode": {
    "name": "ipython",
    "version": 3
   },
   "file_extension": ".py",
   "mimetype": "text/x-python",
   "name": "python",
   "nbconvert_exporter": "python",
   "pygments_lexer": "ipython3",
   "version": "3.5.4"
  }
 },
 "nbformat": 4,
 "nbformat_minor": 2
}
