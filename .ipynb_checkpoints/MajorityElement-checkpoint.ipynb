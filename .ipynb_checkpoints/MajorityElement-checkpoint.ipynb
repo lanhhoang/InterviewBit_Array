{
 "cells": [
  {
   "cell_type": "markdown",
   "metadata": {},
   "source": [
    "Given an array of size n, find the majority element. The majority element is the element that appears more than floor(n/2) times.\n",
    "\n",
    "You may assume that the array is non-empty and the majority element always exist in the array.\n",
    "\n",
    "Example :\n",
    "\n",
    "Input : [2, 1, 2]\n",
    "Return  : 2 which occurs 2 times which is greater than 3/2. "
   ]
  },
  {
   "cell_type": "code",
   "execution_count": 2,
   "metadata": {
    "collapsed": true
   },
   "outputs": [],
   "source": [
    "from collections import defaultdict\n",
    "\n",
    "def majorityElement(A):\n",
    "    base = len(A)/2.\n",
    "    dict_A = defaultdict(int)\n",
    "    maximum = 0\n",
    "    for i in A:\n",
    "        dict_A[i] += 1\n",
    "        if dict_A[i] > maximum:\n",
    "            maximum = dict_A[i]\n",
    "            output = i\n",
    "    return output if maximum > base else -1"
   ]
  },
  {
   "cell_type": "code",
   "execution_count": 3,
   "metadata": {},
   "outputs": [
    {
     "data": {
      "text/plain": [
       "1"
      ]
     },
     "execution_count": 3,
     "metadata": {},
     "output_type": "execute_result"
    }
   ],
   "source": [
    "A = [1,1,1,2,2]\n",
    "majorityElement( A)"
   ]
  },
  {
   "cell_type": "code",
   "execution_count": 4,
   "metadata": {
    "collapsed": true
   },
   "outputs": [],
   "source": [
    "from collections import *\n",
    "class Solution:\n",
    "    # @param A : tuple of integers\n",
    "    # @return an integer\n",
    "    def majorityElement(self, A):\n",
    "        c=Counter(A)\n",
    "        n=len(A)\n",
    "        d=sorted(c.items(),key=lambda k:k[1],reverse=True)\n",
    "        for i,j in d:\n",
    "            if j>(n/2):\n",
    "                return i"
   ]
  },
  {
   "cell_type": "code",
   "execution_count": 5,
   "metadata": {},
   "outputs": [
    {
     "data": {
      "text/plain": [
       "1"
      ]
     },
     "execution_count": 5,
     "metadata": {},
     "output_type": "execute_result"
    }
   ],
   "source": [
    "A = [1,1,1,2,2]\n",
    "majorityElement(A)"
   ]
  },
  {
   "cell_type": "code",
   "execution_count": null,
   "metadata": {
    "collapsed": true
   },
   "outputs": [],
   "source": []
  }
 ],
 "metadata": {
  "kernelspec": {
   "display_name": "Python [default]",
   "language": "python",
   "name": "python3"
  },
  "language_info": {
   "codemirror_mode": {
    "name": "ipython",
    "version": 3
   },
   "file_extension": ".py",
   "mimetype": "text/x-python",
   "name": "python",
   "nbconvert_exporter": "python",
   "pygments_lexer": "ipython3",
   "version": "3.5.4"
  }
 },
 "nbformat": 4,
 "nbformat_minor": 2
}
