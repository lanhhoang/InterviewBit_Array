{
 "cells": [
  {
   "cell_type": "markdown",
   "metadata": {},
   "source": [
    "You are given an array of N integers, A1, A2 ,…, AN. Return maximum value of f(i, j) for all 1 ≤ i, j ≤ N.\n",
    "f(i, j) is defined as |A[i] - A[j]| + |i - j|, where |x| denotes absolute value of x.\n",
    "\n",
    "For example,\n",
    "\n",
    "A=[1, 3, -1]\n",
    "\n",
    "f(1, 1) = f(2, 2) = f(3, 3) = 0\n",
    "f(1, 2) = f(2, 1) = |1 - 3| + |1 - 2| = 3\n",
    "f(1, 3) = f(3, 1) = |1 - (-1)| + |1 - 3| = 4\n",
    "f(2, 3) = f(3, 2) = |3 - (-1)| + |2 - 3| = 5\n",
    "\n",
    "So, we return 5."
   ]
  },
  {
   "cell_type": "code",
   "execution_count": 5,
   "metadata": {
    "collapsed": true
   },
   "outputs": [],
   "source": [
    "def maxArr(A):\n",
    "    if not A:\n",
    "        return 0\n",
    "    else:\n",
    "        N = len(A)\n",
    "        mx1, mx2, mx3, mx4 = [float('-inf')] * 4\n",
    "        for i in range(N):\n",
    "            mx1 = max(mx1, A[i] + i)\n",
    "            mx2 = max(mx2, - A[i] + i)\n",
    "            mx3 = max(mx3, A[i] - i)\n",
    "            mx4 = max(mx4, -A[i] - i)\n",
    "        ans = float('-inf')\n",
    "        for i in range(N):\n",
    "            ans = max(ans, mx1 - A[i] - i);\n",
    "            ans = max(ans, mx2 + A[i] - i);\n",
    "            ans = max(ans, mx3 - A[i] + i);\n",
    "            ans = max(ans, mx4 + A[i] + i);\n",
    "        return ans"
   ]
  },
  {
   "cell_type": "code",
   "execution_count": 6,
   "metadata": {
    "collapsed": true
   },
   "outputs": [],
   "source": [
    "def maxArr(self, A):\n",
    "    if len(A) <= 1: return 0\n",
    "    a_len = len(A)\n",
    "    maximum = 0\n",
    "    for i in range(a_len-1):\n",
    "        for j in range(i+1, a_len):\n",
    "            if abs(A[i] - A[j]) + abs(i - j) > maximum:\n",
    "                maximum = abs(A[i] - A[j]) + abs(i - j)\n",
    "    return maximum\n",
    "#O(N^2)"
   ]
  },
  {
   "cell_type": "code",
   "execution_count": null,
   "metadata": {
    "collapsed": true
   },
   "outputs": [],
   "source": []
  }
 ],
 "metadata": {
  "kernelspec": {
   "display_name": "Python [default]",
   "language": "python",
   "name": "python3"
  },
  "language_info": {
   "codemirror_mode": {
    "name": "ipython",
    "version": 3
   },
   "file_extension": ".py",
   "mimetype": "text/x-python",
   "name": "python",
   "nbconvert_exporter": "python",
   "pygments_lexer": "ipython3",
   "version": "3.5.4"
  }
 },
 "nbformat": 4,
 "nbformat_minor": 2
}
