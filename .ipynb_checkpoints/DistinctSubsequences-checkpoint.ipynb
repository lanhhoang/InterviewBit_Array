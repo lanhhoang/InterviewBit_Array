{
 "cells": [
  {
   "cell_type": "markdown",
   "metadata": {},
   "source": [
    "Given two sequences S, T, count number of unique ways in sequence S, to form a subsequence that is identical to the sequence T.\n",
    "\n",
    "Subsequence : A subsequence of a string is a new string which is formed from the original string by deleting some (can be none ) of the characters without disturbing the relative positions of the remaining characters. (ie, \"ACE\" is a subsequence of \"ABCDE\" while \"AEC\" is not). \n",
    "Example :\n",
    "\n",
    "S = \"rabbbit\" \n",
    "T = \"rabbit\"\n",
    "Return 3. And the formations as follows:\n",
    "\n",
    "S1= \"ra_bbit\" \n",
    "S2= \"rab_bit\" \n",
    "S3=\"rabb_it\"\n",
    "\"_\" marks the removed character."
   ]
  },
  {
   "cell_type": "markdown",
   "metadata": {},
   "source": [
    "---------------------------"
   ]
  },
  {
   "cell_type": "markdown",
   "metadata": {},
   "source": [
    "As a typical way to implement a dynamic programming algorithm, we construct a matrix dp, where each cell dp[i][j] represents the number of solutions of aligning substring T[0..i] with S[0..j];\n",
    "\n",
    "Rule 1). dp[0][j] = 1, since aligning T = “” with any substring of S would have only ONE solution which is to delete all characters in S.\n",
    "\n",
    "Rule 2). when i > 0, dp[i][j] can be derived by two cases:\n",
    "\n",
    "case 1). if T[i] != S[j], then the solution would be to ignore the character S[j] and align substring T[0..i] with S[0..(j-1)]. Therefore, dp[i][j] = dp[i][j-1].\n",
    "\n",
    "case 2). if T[i] == S[j], then first we could adopt the solution in case 1), but also we could match the characters T[i] and S[j] and align the rest of them (i.e. T[0..(i-1)] and S[0..(j-1)]. As a result, dp[i][j] = dp[i][j-1] + d[i-1][j-1]\n",
    "\n",
    "e.g. T = B, S = ABC\n",
    "\n",
    "dp[1][2]=1: Align T’=B and S’=AB, only one solution, which is to remove character A in S’."
   ]
  },
  {
   "cell_type": "code",
   "execution_count": 1,
   "metadata": {
    "collapsed": true
   },
   "outputs": [],
   "source": [
    "def numDistinct(A, B):\n",
    "    prev_row = [0] * (len(B) + 1)\n",
    "    prev_row[0] = 1\n",
    "    for j in range(len(A)):\n",
    "        next_row = [0] * (len(B) + 1)\n",
    "        next_row[0] = 1\n",
    "        for i in range(len(B)):\n",
    "            next_row[i + 1] = prev_row[i + 1]\n",
    "            if A[j] == B[i]:\n",
    "                next_row[i + 1] += prev_row[i]\n",
    "        prev_row = next_row\n",
    "    return prev_row[-1]"
   ]
  },
  {
   "cell_type": "code",
   "execution_count": 3,
   "metadata": {},
   "outputs": [
    {
     "data": {
      "text/plain": [
       "0"
      ]
     },
     "execution_count": 3,
     "metadata": {},
     "output_type": "execute_result"
    }
   ],
   "source": [
    "A = \"aaaababbababbaabbaaababaaabbbaaabbb\"\n",
    "B = \"bbababa\"\n",
    "numDistinct(A, B)"
   ]
  },
  {
   "cell_type": "markdown",
   "metadata": {},
   "source": [
    "A = 'aaaba'\n",
    "B = 'aa'\n",
    "\n",
    "prev_row = [1,0,0]\n",
    "\n",
    "j = 0:\n",
    "    next_row = [1,0,0]\n",
    "    i = 0:\n",
    "        next_row[1] = prev_row[1]\n",
    "        A[0] == B[0] => next_row[1] += prev_row[0]\n",
    "        next_row = [1,1,0]\n",
    "    i = 1:\n",
    "        next_row[2] = prev_row[2]\n",
    "        A[0] == B[1] => next_row[2] += prev_row[1]\n",
    "        next_row = [1,1,0]\n",
    "        prev_row = [1,1,0]\n",
    "        \n",
    "j = 1:\n",
    "    next_row = [1,0,0]\n",
    "    i = 0:\n",
    "        next_row[1] = prev_row[1] = 1\n",
    "        A[1] == B[0] => next_row[1] += prev_row[0]\n",
    "        next_row = [1,2,0]\n",
    "    i = 1:\n",
    "        next_row[2] = prev_row[2] = 0\n",
    "        A[1] == B[1] => next_row[2] += prev_row[1]\n",
    "        next_row = [1,2,1]\n",
    "        prev_row = [1,2,1]\n",
    "        \n",
    "j = 2:\n",
    "    next_row = [1,0,0]\n",
    "    i = 0:\n",
    "        next_row[1] = prev_row[1] = 2\n",
    "        A[2] == B[0] => next_row[1] += prev_row[0]\n",
    "        next_row = [1,3,0]\n",
    "    i = 1:\n",
    "        next_row[2] = prev_row[2] = 1\n",
    "        A[2] == B[1] => next_row[2] += prev_row[1]\n",
    "        next_row = [1,3,3]\n",
    "        prev_row = [1,3,3]\n",
    "        \n",
    "j = 3:\n",
    "    next_row = [1,0,0]\n",
    "    i = 0:\n",
    "        next_row[1] = prev_row[1] = 3\n",
    "        A[3] != B[0]\n",
    "        next_row = [1,3,0]\n",
    "    i = 1:\n",
    "        next_row[2] = prev_row[2] = 3\n",
    "        A[3] != B[1]\n",
    "        next_row = [1,3,3]\n",
    "        prev_row = [1,3,3]\n",
    "        \n",
    "j = 4:\n",
    "    next_row = [1,0,0]\n",
    "    i = 0:\n",
    "        next_row[1] = prev_row[1] = 3\n",
    "        A[2] == B[0] => next_row[1] += prev_row[0]\n",
    "        next_row = [1,4,0]\n",
    "    i = 1:\n",
    "        next_row[2] = prev_row[2] = 3\n",
    "        A[2] == B[1] => next_row[2] += prev_row[1]\n",
    "        next_row = [1,3,6]\n",
    "        prev_row = [1,3,6]"
   ]
  },
  {
   "cell_type": "code",
   "execution_count": 6,
   "metadata": {},
   "outputs": [
    {
     "data": {
      "text/plain": [
       "6"
      ]
     },
     "execution_count": 6,
     "metadata": {},
     "output_type": "execute_result"
    }
   ],
   "source": [
    "A = \"aaaba\"\n",
    "B = \"aa\"\n",
    "numDistinct(A, B)"
   ]
  },
  {
   "cell_type": "code",
   "execution_count": null,
   "metadata": {
    "collapsed": true
   },
   "outputs": [],
   "source": []
  }
 ],
 "metadata": {
  "kernelspec": {
   "display_name": "Python [default]",
   "language": "python",
   "name": "python3"
  },
  "language_info": {
   "codemirror_mode": {
    "name": "ipython",
    "version": 3
   },
   "file_extension": ".py",
   "mimetype": "text/x-python",
   "name": "python",
   "nbconvert_exporter": "python",
   "pygments_lexer": "ipython3",
   "version": "3.5.4"
  }
 },
 "nbformat": 4,
 "nbformat_minor": 2
}
