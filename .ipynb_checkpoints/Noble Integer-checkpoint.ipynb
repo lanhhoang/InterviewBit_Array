{
 "cells": [
  {
   "cell_type": "markdown",
   "metadata": {},
   "source": [
    "Given an integer array, find if an integer p exists in the array such that the number of integers greater than p in the array equals to p\n",
    "If such an integer is found return 1 else return -1."
   ]
  },
  {
   "cell_type": "code",
   "execution_count": 2,
   "metadata": {},
   "outputs": [],
   "source": [
    "from collections import Counter\n",
    "# @param A : list of integers\n",
    "# @return an integer\n",
    "def solve(A):\n",
    "    #for example A = [0,1,2,3,4]\n",
    "    #when p = 0, no. of integers greater than p = 4\n",
    "    #when p = 1, no. of integers greater than p = 3\n",
    "    #when p = 2, no. of integers greater than p = 2\n",
    "    #when p = 3, no. of integers greater than p = 1\n",
    "    #when p = 4, no. of integers greater than p = 0\n",
    "    a_len = len(A)\n",
    "    a_count = Counter(A)\n",
    "    a_sort = sorted(a_count.items(), key = lambda k: k[0])\n",
    "    item_left = a_len\n",
    "    for p, num in a_sort:\n",
    "        item_left -= num\n",
    "        if p == item_left: return 1\n",
    "    return -1\n"
   ]
  },
  {
   "cell_type": "code",
   "execution_count": null,
   "metadata": {
    "collapsed": true
   },
   "outputs": [],
   "source": []
  }
 ],
 "metadata": {
  "kernelspec": {
   "display_name": "Python [default]",
   "language": "python",
   "name": "python3"
  },
  "language_info": {
   "codemirror_mode": {
    "name": "ipython",
    "version": 3
   },
   "file_extension": ".py",
   "mimetype": "text/x-python",
   "name": "python",
   "nbconvert_exporter": "python",
   "pygments_lexer": "ipython3",
   "version": "3.5.4"
  }
 },
 "nbformat": 4,
 "nbformat_minor": 2
}
