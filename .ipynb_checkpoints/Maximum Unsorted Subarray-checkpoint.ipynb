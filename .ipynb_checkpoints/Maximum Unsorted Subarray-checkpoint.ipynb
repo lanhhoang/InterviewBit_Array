{
 "cells": [
  {
   "cell_type": "markdown",
   "metadata": {},
   "source": [
    "You are given an array (zero indexed) of N non-negative integers, A0, A1 ,…, AN-1.\n",
    "Find the minimum sub array Al, Al+1 ,…, Ar so if we sort(in ascending order) that sub array, then the whole array should get sorted.\n",
    "If A is already sorted, output -1.\n",
    "\n",
    "Example :\n",
    "\n",
    "Input 1:\n",
    "\n",
    "A = [1, 3, 2, 4, 5]\n",
    "\n",
    "Return: [1, 2]\n",
    "\n",
    "Input 2:\n",
    "\n",
    "A = [1, 2, 3, 4, 5]\n",
    "\n",
    "Return: [-1]\n",
    "In the above example(Input 1), if we sort the subarray A1, A2, then whole array A should get sorted."
   ]
  },
  {
   "cell_type": "code",
   "execution_count": 1,
   "metadata": {
    "collapsed": true
   },
   "outputs": [],
   "source": [
    "class Solution:\n",
    "    # @param A : list of integers\n",
    "    # @return a list of integers\n",
    "    def subUnsort(self, A):\n",
    "        '''\n",
    "        Assume that Al, …, Ar is the minimum-unsorted-subarray which is to be sorted, \n",
    "        then subarrays A0, …, Al-1 and Ar+1, …, AN-1 will be in sorted(ascending) order.\n",
    "        '''\n",
    "        '''\n",
    "        Assume that Al, …, Ar is the minimum-unsorted-subarray which is to be sorted.\n",
    "        then min(Al, …, Ar) >= max(A0, …, Al-1)\n",
    "        and max(Al, …, Ar) <= min(Ar+1, …, AN-1)\n",
    "        '''\n",
    "        #eg. [2,1] => [1]\n",
    "        #output: list of indices start and end\n",
    "        si = -1\n",
    "        ei = 0\n",
    "        max1 = 0\n",
    "        min1 = max(A)\n",
    "        minind = -1\n",
    "        for i in range(1,len(A)):\n",
    "            if A[i] < A[i - 1] or A[i] < max1:\n",
    "                if si == -1:\n",
    "                    si = i - 1\n",
    "                ei = i\n",
    "                min1 = min(min1,A[i])\n",
    "            max1 = max(max1,A[i])\n",
    "            \n",
    "        if si == -1:\n",
    "            return [-1]\n",
    "        else:\n",
    "            for i in range(0,si):\n",
    "                if A[i] > min1:\n",
    "                    minind = i\n",
    "                    break\n",
    "            if minind < si and minind != -1:\n",
    "                si = minind\n",
    "            return [si,ei]"
   ]
  },
  {
   "cell_type": "code",
   "execution_count": null,
   "metadata": {
    "collapsed": true
   },
   "outputs": [],
   "source": []
  }
 ],
 "metadata": {
  "kernelspec": {
   "display_name": "Python [default]",
   "language": "python",
   "name": "python3"
  },
  "language_info": {
   "codemirror_mode": {
    "name": "ipython",
    "version": 3
   },
   "file_extension": ".py",
   "mimetype": "text/x-python",
   "name": "python",
   "nbconvert_exporter": "python",
   "pygments_lexer": "ipython3",
   "version": "3.5.4"
  }
 },
 "nbformat": 4,
 "nbformat_minor": 2
}
