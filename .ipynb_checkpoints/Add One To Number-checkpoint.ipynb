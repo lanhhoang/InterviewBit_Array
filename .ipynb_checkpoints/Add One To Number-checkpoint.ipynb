{
 "cells": [
  {
   "cell_type": "markdown",
   "metadata": {},
   "source": [
    "Given a non-negative number represented as an array of digits,\n",
    "\n",
    "add 1 to the number ( increment the number represented by the digits ).\n",
    "\n",
    "The digits are stored such that the most significant digit is at the head of the list.\n",
    "\n",
    "Example:\n",
    "\n",
    "If the vector has [1, 2, 3]\n",
    "\n",
    "the returned vector should be [1, 2, 4]\n",
    "\n",
    "as 123 + 1 = 124.\n",
    "\n",
    "NOTE: Certain things are intentionally left unclear in this question which you should practice asking the interviewer.\n",
    "For example, for this problem, following are some good questions to ask :\n",
    "Q : Can the input have 0’s before the most significant digit. Or in other words, is 0 1 2 3 a valid input?\n",
    "A : For the purpose of this question, YES\n",
    "Q : Can the output have 0’s before the most significant digit? Or in other words, is 0 1 2 4 a valid output?\n",
    "A : For the purpose of this question, NO. Even if the input has zeroes before the most significant digit."
   ]
  },
  {
   "cell_type": "code",
   "execution_count": 3,
   "metadata": {
    "collapsed": true
   },
   "outputs": [],
   "source": [
    "def plusOne(A):\n",
    "    if len(A) == 0: return [1]\n",
    "    num = A\n",
    "    while len(num) > 0 and num[0] == 0:\n",
    "        num.remove(0)\n",
    "    digits = len(num)\n",
    "    if digits == 0: return [1]\n",
    "    i = -1\n",
    "    num[i] = num[i] + 1\n",
    "    while num[i] % 10 == 0 and i + digits > 0:\n",
    "        num[i] = 0\n",
    "        num[i-1] += 1\n",
    "        i -= 1\n",
    "    if num[0] % 10 == 0:\n",
    "        num[0] = 0\n",
    "        num = [1] + num\n",
    "        \n",
    "    return num\n",
    "    '''\n",
    "    output = []\n",
    "    a_len = len(A)\n",
    "    num = 0\n",
    "    for idx in range(a_len):\n",
    "        num += A[idx] * (10**(a_len-idx-1))\n",
    "        num = str(num+1)\n",
    "    for i in num:\n",
    "        output.append(int(i))\n",
    "    return output\n",
    "    '''"
   ]
  },
  {
   "cell_type": "code",
   "execution_count": null,
   "metadata": {
    "collapsed": true
   },
   "outputs": [],
   "source": []
  }
 ],
 "metadata": {
  "kernelspec": {
   "display_name": "Python [default]",
   "language": "python",
   "name": "python3"
  },
  "language_info": {
   "codemirror_mode": {
    "name": "ipython",
    "version": 3
   },
   "file_extension": ".py",
   "mimetype": "text/x-python",
   "name": "python",
   "nbconvert_exporter": "python",
   "pygments_lexer": "ipython3",
   "version": "3.5.4"
  }
 },
 "nbformat": 4,
 "nbformat_minor": 2
}
