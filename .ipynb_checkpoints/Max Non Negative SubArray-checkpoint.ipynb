{
 "cells": [
  {
   "cell_type": "markdown",
   "metadata": {},
   "source": [
    "Find out the maximum sub-array of non negative numbers from an array.\n",
    "The sub-array should be continuous. That is, a sub-array created by choosing the second and fourth element and skipping the third element is invalid.\n",
    "\n",
    "Maximum sub-array is defined in terms of the sum of the elements in the sub-array. Sub-array A is greater than sub-array B if sum(A) > sum(B).\n",
    "\n",
    "Example:\n",
    "\n",
    "A : [1, 2, 5, -7, 2, 3]\n",
    "The two sub-arrays are [1, 2, 5] [2, 3].\n",
    "The answer is [1, 2, 5] as its sum is larger than [2, 3]\n",
    "NOTE: If there is a tie, then compare with segment's length and return segment which has maximum length\n",
    "NOTE 2: If there is still a tie, then return the segment with minimum starting index"
   ]
  },
  {
   "cell_type": "code",
   "execution_count": 9,
   "metadata": {
    "collapsed": true
   },
   "outputs": [],
   "source": [
    "def maxset(A):\n",
    "    if len(A) == 0: return []\n",
    "    start_pos = 0\n",
    "    maximum = 0\n",
    "    max_list = []\n",
    "    last_neg_pos = -1\n",
    "    current_list = []\n",
    "    current_max = 0\n",
    "    for idx, num in enumerate(A):\n",
    "        if num >= 0 and idx - last_neg_pos == 1:\n",
    "            start_pos = idx\n",
    "            current_max += num\n",
    "            current_list.append(num)\n",
    "        elif num >= 0:\n",
    "            current_max += num\n",
    "            current_list.append(num)\n",
    "        else:\n",
    "            last_neg_pos = idx\n",
    "            if maximum < current_max:\n",
    "                maximum = current_max\n",
    "                max_list = current_list\n",
    "            elif maximum == current_max and len(max_list) < len(current_list):\n",
    "                max_list = current_list\n",
    "            current_max = 0\n",
    "            current_list = []\n",
    "    if maximum < current_max:\n",
    "        max_list = current_list\n",
    "    elif maximum == current_max and len(max_list) < len(current_list):\n",
    "        max_list = current_list\n",
    "    return max_list\n"
   ]
  },
  {
   "cell_type": "code",
   "execution_count": 10,
   "metadata": {},
   "outputs": [
    {
     "data": {
      "text/plain": [
       "[1, 2, 5]"
      ]
     },
     "execution_count": 10,
     "metadata": {},
     "output_type": "execute_result"
    }
   ],
   "source": [
    "A = [1, 2, 5, -7, 2, 3]\n",
    "maxset(A)"
   ]
  },
  {
   "cell_type": "code",
   "execution_count": null,
   "metadata": {
    "collapsed": true
   },
   "outputs": [],
   "source": []
  }
 ],
 "metadata": {
  "kernelspec": {
   "display_name": "Python [default]",
   "language": "python",
   "name": "python3"
  },
  "language_info": {
   "codemirror_mode": {
    "name": "ipython",
    "version": 3
   },
   "file_extension": ".py",
   "mimetype": "text/x-python",
   "name": "python",
   "nbconvert_exporter": "python",
   "pygments_lexer": "ipython3",
   "version": "3.5.4"
  }
 },
 "nbformat": 4,
 "nbformat_minor": 2
}
