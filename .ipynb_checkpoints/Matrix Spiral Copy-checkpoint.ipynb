{
 "cells": [
  {
   "cell_type": "markdown",
   "metadata": {},
   "source": [
    "Given a 2D array (matrix) inputMatrix of integers, create a function spiralCopy that copies inputMatrix’s values into a 1D array in a spiral order, clockwise. Your function then should return that array. Analyze the time and space complexities of your solution.\n",
    "\n",
    "Example:\n",
    "\n",
    "input:  inputMatrix  = [ [1,    2,   3,  4,    5],\n",
    "                         [6,    7,   8,  9,   10],\n",
    "                         [11,  12,  13,  14,  15],\n",
    "                         [16,  17,  18,  19,  20] ]\n",
    "\n",
    "output: [1, 2, 3, 4, 5, 10, 15, 20, 19, 18, 17, 16, 11, 6, 7, 8, 9, 14, 13, 12]\n",
    "See the illustration below to understand better what a clockwise spiral order looks like.\n",
    "\n",
    "alt Clockwise spiral order\n",
    "\n",
    "Constraints:\n",
    "\n",
    "[time limit] 5000ms\n",
    "\n",
    "[input] array.array.integer inputMatrix\n",
    "\n",
    "1 ≤ inputMatrix[0].length ≤ 100\n",
    "1 ≤ inputMatrix.length ≤ 100\n",
    "[output] array.integer"
   ]
  },
  {
   "cell_type": "code",
   "execution_count": 1,
   "metadata": {
    "collapsed": true
   },
   "outputs": [],
   "source": [
    "#[a, b, c, d]\n",
    "#a[0], a[1], a[2], b[2], c[2], d[2], d[1], d[0]\n",
    "def spiral_copy(inputMatrix):\n",
    "    output = []\n",
    "  \n",
    "    top_row = 0\n",
    "    bottom_row = len(inputMatrix) - 1\n",
    "    left_col = 0\n",
    "    right_col = len(inputMatrix[0]) - 1\n",
    "\n",
    "    while top_row <= bottom_row and left_col <= right_col:\n",
    "    \n",
    "        for i in range(left_col, right_col + 1):\n",
    "            output.append(inputMatrix[top_row][i])\n",
    "        top_row += 1\n",
    "      \n",
    "        for i in range(top_row, bottom_row + 1):\n",
    "            output.append(inputMatrix[i][right_col])\n",
    "        right_col -= 1\n",
    "    \n",
    "        if top_row > bottom_row: break\n",
    "    \n",
    "        for i in range(right_col, left_col - 1, -1):\n",
    "            output.append(inputMatrix[bottom_row][i])\n",
    "        bottom_row -= 1 \n",
    "    \n",
    "        if left_col > right_col: break\n",
    "    \n",
    "        for i in range(bottom_row, top_row - 1, -1):\n",
    "            output.append(inputMatrix[i][left_col])\n",
    "        left_col += 1  \n",
    "    \n",
    "    return output\n",
    "\n",
    "\n",
    "\n",
    "# example input:\n",
    "# inputMatrix  = [\n",
    "#\n",
    "#\n",
    "#                  [1,    2,   3,  4,    5],\n",
    "#                  [6,    7,   8,  9,   10],\n",
    "#                  [11,  12,  13,  14,  15],\n",
    "#                  [16,  17,  18,  19,  20],\n",
    "#                  [21,  22,  23,  24,  25]\n",
    "#\n",
    "#]\n",
    "#\n",
    "# example output:\n",
    "# output = [1, 2, 3, 4, 5, 10, 15, 20, 19, 18, 17, 16, 11, 6, 7, 8, 9, 14, 13, 12]\n"
   ]
  },
  {
   "cell_type": "code",
   "execution_count": null,
   "metadata": {
    "collapsed": true
   },
   "outputs": [],
   "source": []
  }
 ],
 "metadata": {
  "kernelspec": {
   "display_name": "Python [default]",
   "language": "python",
   "name": "python3"
  },
  "language_info": {
   "codemirror_mode": {
    "name": "ipython",
    "version": 3
   },
   "file_extension": ".py",
   "mimetype": "text/x-python",
   "name": "python",
   "nbconvert_exporter": "python",
   "pygments_lexer": "ipython3",
   "version": "3.5.4"
  }
 },
 "nbformat": 4,
 "nbformat_minor": 2
}
