{
 "cells": [
  {
   "cell_type": "code",
   "execution_count": null,
   "metadata": {
    "collapsed": true
   },
   "outputs": [],
   "source": [
    "Given an unsorted integer array, find the first missing positive integer.\n",
    "\n",
    "Example:\n",
    "\n",
    "Given [1,2,0] return 3,\n",
    "\n",
    "[3,4,-1,1] return 2,\n",
    "\n",
    "[-8, -7, -6] returns 1\n",
    "\n",
    "Your algorithm should run in O(n) time and use constant space."
   ]
  },
  {
   "cell_type": "code",
   "execution_count": 5,
   "metadata": {},
   "outputs": [],
   "source": [
    "class Solution:\n",
    "    # @param A : list of integers\n",
    "    # @return an integer\n",
    "    def firstMissingPositive(self, A):\n",
    "        #Given an unsorted integer array, find the first missing positive integer.\n",
    "        a_len = len(A)\n",
    "        if a_len == 0: return 1\n",
    "        \n",
    "        #linear method O(3n)\n",
    "        idx_list = [i for i in range(1, a_len + 1)]\n",
    "        #the missing value must be in the range of (1, len(A))\n",
    "        for i in range(a_len):\n",
    "            try:\n",
    "                if A[i] > 0:\n",
    "                    idx_list[A[i] - 1] = -1\n",
    "            except: continue\n",
    "        \n",
    "        for idx in range(a_len):\n",
    "            if idx_list[idx] != -1:\n",
    "                return idx_list[idx]\n",
    "        \n",
    "        return a_len+1\n",
    "        \n",
    "        '''\n",
    "        #sorting method: O(n logn)\n",
    "        A.sort()\n",
    "        \n",
    "        missing = 1\n",
    "        for i in A:\n",
    "            if i == missing:\n",
    "                missing += 1\n",
    "            elif i > missing:\n",
    "                return missing\n",
    "        return missing\n",
    "        '''"
   ]
  },
  {
   "cell_type": "code",
   "execution_count": null,
   "metadata": {
    "collapsed": true
   },
   "outputs": [],
   "source": []
  }
 ],
 "metadata": {
  "kernelspec": {
   "display_name": "Python [default]",
   "language": "python",
   "name": "python3"
  },
  "language_info": {
   "codemirror_mode": {
    "name": "ipython",
    "version": 3
   },
   "file_extension": ".py",
   "mimetype": "text/x-python",
   "name": "python",
   "nbconvert_exporter": "python",
   "pygments_lexer": "ipython3",
   "version": "3.5.4"
  }
 },
 "nbformat": 4,
 "nbformat_minor": 2
}
