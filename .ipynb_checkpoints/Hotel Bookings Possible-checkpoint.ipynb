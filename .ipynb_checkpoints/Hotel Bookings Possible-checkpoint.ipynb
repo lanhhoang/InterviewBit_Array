{
 "cells": [
  {
   "cell_type": "markdown",
   "metadata": {},
   "source": [
    "A hotel manager has to process N advance bookings of rooms for the next season. His hotel has K rooms. Bookings contain an arrival date and a departure date. He wants to find out whether there are enough rooms in the hotel to satisfy the demand. Write a program that solves this problem in time O(N log N) .\n",
    "\n",
    "Input:\n",
    "\n",
    "\n",
    "First list for arrival time of booking.\n",
    "Second list for departure time of booking.\n",
    "Third is K which denotes count of rooms.\n",
    "\n",
    "Output:\n",
    "\n",
    "A boolean which tells whether its possible to make a booking. \n",
    "Return 0/1 for C programs.\n",
    "O -> No there are not enough rooms for N booking.\n",
    "1 -> Yes there are enough rooms for N booking.\n",
    "Example :\n",
    "\n",
    "Input : \n",
    "        Arrivals :   [1 3 5]\n",
    "        Departures : [2 6 8]\n",
    "        K : 1\n",
    "\n",
    "Return : False / 0 \n",
    "\n",
    "At day = 5, there are 2 guests in the hotel. But I have only one room. "
   ]
  },
  {
   "cell_type": "code",
   "execution_count": 1,
   "metadata": {
    "collapsed": true
   },
   "outputs": [],
   "source": [
    "def hotel(arrive, depart, K):\n",
    "    events = [(t, 1) for t in arrive] + [(t, 0) for t in depart]\n",
    "    events = sorted(events)\n",
    "\n",
    "    guests = 0\n",
    "    for event in events:\n",
    "        if event[1] == 1:\n",
    "            guests += 1\n",
    "        else:\n",
    "            guests -= 1\n",
    "        if guests > K:\n",
    "            return 0\n",
    "\n",
    "    return 1\n"
   ]
  },
  {
   "cell_type": "code",
   "execution_count": null,
   "metadata": {
    "collapsed": true
   },
   "outputs": [],
   "source": []
  }
 ],
 "metadata": {
  "kernelspec": {
   "display_name": "Python [default]",
   "language": "python",
   "name": "python3"
  },
  "language_info": {
   "codemirror_mode": {
    "name": "ipython",
    "version": 3
   },
   "file_extension": ".py",
   "mimetype": "text/x-python",
   "name": "python",
   "nbconvert_exporter": "python",
   "pygments_lexer": "ipython3",
   "version": "3.5.4"
  }
 },
 "nbformat": 4,
 "nbformat_minor": 2
}
