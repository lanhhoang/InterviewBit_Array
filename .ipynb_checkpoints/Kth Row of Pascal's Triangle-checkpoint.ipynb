{
 "cells": [
  {
   "cell_type": "markdown",
   "metadata": {},
   "source": [
    "Given an index k, return the kth row of the Pascal’s triangle.\n",
    "\n",
    "Pascal’s triangle : To generate A[C] in row R, sum up A’[C] and A’[C-1] from previous row R - 1.\n",
    "\n",
    "Example:\n",
    "\n",
    "Input : k = 3\n",
    "\n",
    "Return : [1,3,3,1]\n",
    "NOTE : k is 0 based. k = 0, corresponds to the row [1]. \n",
    "Note:Could you optimize your algorithm to use only O(k) extra space?"
   ]
  },
  {
   "cell_type": "code",
   "execution_count": 14,
   "metadata": {
    "collapsed": true
   },
   "outputs": [],
   "source": [
    "#only keep track of the previous row\n",
    "def getRow(A):\n",
    "    #input: index of the Pascal’s triangle\n",
    "    if A == 0: return [1]\n",
    "    elif A == 1: return [1,1]\n",
    "    #4 =>   [1,4,6,4,1]\n",
    "    #5 =>  [1,5,10,10,5,1]\n",
    "    #6 => [1,6,15,20,15,6,1]\n",
    "    #how to do without referring to prior rows in the triangle?\n",
    "    pre_row = [1,1]\n",
    "    row = 2\n",
    "    while row < A:\n",
    "        row_lst = [1] * (row+1)\n",
    "        to_push = 1\n",
    "        to_end = row - 1\n",
    "        while to_push <= to_end:\n",
    "            row_lst[to_push] = pre_row[to_push-1] + pre_row[to_push]\n",
    "            row_lst[to_end] = row_lst[to_push]\n",
    "            to_push += 1\n",
    "            to_end -= 1\n",
    "        pre_row = row_lst\n",
    "        row += 1\n",
    "        \n",
    "    output = [1] * (A+1)\n",
    "    to_push = 1\n",
    "    to_end = A - 1\n",
    "    while to_push <= to_end:\n",
    "        output[to_push] = pre_row[to_push-1]+pre_row[to_push]\n",
    "        output[to_end] = output[to_push]\n",
    "        to_push += 1\n",
    "        to_end -= 1\n",
    "    return output"
   ]
  },
  {
   "cell_type": "code",
   "execution_count": 16,
   "metadata": {},
   "outputs": [
    {
     "data": {
      "text/plain": [
       "[1, 12, 66, 220, 495, 792, 924, 792, 495, 220, 66, 12, 1]"
      ]
     },
     "execution_count": 16,
     "metadata": {},
     "output_type": "execute_result"
    }
   ],
   "source": [
    "A = 12\n",
    "getRow(A)"
   ]
  },
  {
   "cell_type": "code",
   "execution_count": 18,
   "metadata": {
    "collapsed": true
   },
   "outputs": [],
   "source": [
    "class Solution:\n",
    "    # @param A : integer\n",
    "    # @return a list of integers\n",
    "    def getRow(self, A):\n",
    "        A+=1\n",
    "        prev_row = [1]\n",
    "        row = prev_row\n",
    "        for i in range(1, A):\n",
    "            row = list()\n",
    "            row.append(1)\n",
    "            for j in range(0, len(prev_row)-1):\n",
    "                row.append(prev_row[j]+prev_row[j+1])\n",
    "            row.append(1)\n",
    "            prev_row = row\n",
    "        return row"
   ]
  },
  {
   "cell_type": "code",
   "execution_count": 17,
   "metadata": {
    "collapsed": true
   },
   "outputs": [],
   "source": [
    "#bad recursion!\n",
    "class Solution:\n",
    "    # @param A : integer\n",
    "    # @return a list of integers\n",
    "    def getRow(self, A):\n",
    "        #input: index of the Pascal’s triangle\n",
    "        if A == 0: return [1]\n",
    "        elif A == 1: return [1,1]\n",
    "        #4 =>   [1,4,6,4,1]\n",
    "        #5 =>  [1,5,10,10,5,1]\n",
    "        #6 => [1,6,15,20,15,6,1]\n",
    "        #how to do without referring to prior rows in the triangle?\n",
    "        output = [1] * (A+1)\n",
    "        to_push = 1\n",
    "        to_end = A - 1\n",
    "        while to_push <= to_end:\n",
    "            output[to_push] = self.getRow(A-1)[to_push-1]+self.getRow(A-1)[to_push]\n",
    "            output[to_end] = output[to_push]\n",
    "            to_push += 1\n",
    "            to_end -= 1\n",
    "        return output\n",
    "        #brute force: recursive method, get to know prior row until hit the first row\n",
    "        #then adding them up up to the k-th row        \n",
    "        '''\n",
    "        recursive method:\n",
    "        to_push = 1\n",
    "        to_end = A - 1\n",
    "        while to_push <= to_end:\n",
    "            output[k-th row][to_push] = output[k-1-th row][to_push-1]+output[k-1-th row][to_push]\n",
    "            output[k-th row][to_end] = output[k-th row][to_push]\n",
    "            to_push += 1\n",
    "            to_end -= 1\n",
    "        return output\n",
    "        '''"
   ]
  },
  {
   "cell_type": "code",
   "execution_count": null,
   "metadata": {
    "collapsed": true
   },
   "outputs": [],
   "source": []
  }
 ],
 "metadata": {
  "kernelspec": {
   "display_name": "Python [default]",
   "language": "python",
   "name": "python3"
  },
  "language_info": {
   "codemirror_mode": {
    "name": "ipython",
    "version": 3
   },
   "file_extension": ".py",
   "mimetype": "text/x-python",
   "name": "python",
   "nbconvert_exporter": "python",
   "pygments_lexer": "ipython3",
   "version": "3.5.4"
  }
 },
 "nbformat": 4,
 "nbformat_minor": 2
}
