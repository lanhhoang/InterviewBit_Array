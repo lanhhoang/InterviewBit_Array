{
 "cells": [
  {
   "cell_type": "markdown",
   "metadata": {},
   "source": [
    "Given an unsorted array, find the maximum difference between the successive elements in its sorted form.\n",
    "\n",
    "Try to solve it in linear time/space.\n",
    "\n",
    "Example :\n",
    "\n",
    "Input : [1, 10, 5]\n",
    "Output : 5 \n",
    "Return 0 if the array contains less than 2 elements.\n",
    "\n",
    "You may assume that all the elements in the array are non-negative integers and fit in the 32-bit signed integer range.\n",
    "You may also assume that the difference will not overflow."
   ]
  },
  {
   "cell_type": "code",
   "execution_count": 1,
   "metadata": {
    "collapsed": true
   },
   "outputs": [],
   "source": [
    "def maximumGap(A):\n",
    "    if len(A) < 2: return 0\n",
    "    #brute force method\n",
    "    a_sort = sorted(list(A))\n",
    "    max_diff = 0\n",
    "    for i in range(len(a_sort)-1):\n",
    "        max_diff = max(max_diff, a_sort[i+1]-a_sort[i])\n",
    "    return max_diff\n"
   ]
  },
  {
   "cell_type": "code",
   "execution_count": 2,
   "metadata": {},
   "outputs": [
    {
     "data": {
      "text/plain": [
       "27"
      ]
     },
     "execution_count": 2,
     "metadata": {},
     "output_type": "execute_result"
    }
   ],
   "source": [
    "A = [1,6,98,33,50,76]\n",
    "maximumGap(A)"
   ]
  },
  {
   "cell_type": "markdown",
   "metadata": {},
   "source": [
    "Any form of sorting is going to be at least O(n * log n), so we need to think outside of sorting. \n",
    "Now, first try to think if you were already given the minimum value MIN and maximum value MAX in the array of size N, under what circumstances would the max gap be minimum and maximum ?\n",
    "\n",
    "Obviously, maximum gap will be maximum when all elements are either MIN or MAX making maxgap = MAX - MIN.\n",
    "\n",
    "Maximum gap will be minimum when all the elements are equally spaced apart between MIN and MAX. Lets say the spacing between them is gap.\n",
    "\n",
    "So, they are arranged as\n",
    "\n",
    "MIN, MIN + gap, MIN + 2*gap, MIN + 3*gap, ... MIN + (N-1)*gap \n",
    "where\n",
    "\n",
    "MIN + (N-1)*gap = MAX \n",
    "=> gap = (MAX - MIN) / (N - 1). \n",
    "So, we know now that our answer will lie in the range [gap, MAX - MIN]. \n",
    "Now, if we know the answer is more than gap, what we do is create buckets of size gap for ranges\n",
    "\n",
    "  [MIN, MIN + gap), [Min + gap, `MIN` + 2* gap) ... and so on\n",
    "There will only be (N-1) such buckets. We place the numbers in these buckets based on their value.\n",
    "\n",
    "If you pick any 2 numbers from a single bucket, their difference will be less than gap, and hence they would never contribute to maxgap ( Remember maxgap >= gap ). We only need to store the largest number and the smallest number in each bucket, and we only look at the numbers across bucket.\n",
    "\n",
    "Now, we just need to go through the bucket sequentially ( they are already sorted by value ), and get the difference of min_value with max_value of previous bucket with at least one value. We take maximum of all such values."
   ]
  },
  {
   "cell_type": "code",
   "execution_count": null,
   "metadata": {
    "collapsed": true
   },
   "outputs": [],
   "source": []
  }
 ],
 "metadata": {
  "kernelspec": {
   "display_name": "Python [default]",
   "language": "python",
   "name": "python3"
  },
  "language_info": {
   "codemirror_mode": {
    "name": "ipython",
    "version": 3
   },
   "file_extension": ".py",
   "mimetype": "text/x-python",
   "name": "python",
   "nbconvert_exporter": "python",
   "pygments_lexer": "ipython3",
   "version": "3.5.4"
  }
 },
 "nbformat": 4,
 "nbformat_minor": 2
}
