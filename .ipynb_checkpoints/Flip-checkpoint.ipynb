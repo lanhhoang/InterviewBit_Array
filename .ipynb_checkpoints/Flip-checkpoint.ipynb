{
 "cells": [
  {
   "cell_type": "markdown",
   "metadata": {},
   "source": [
    "You are given a binary string(i.e. with characters 0 and 1) S consisting of characters S1, S2, …, SN. In a single operation, you can choose two indices L and R such that 1 ≤ L ≤ R ≤ N and flip the characters SL, SL+1, …, SR. By flipping, we mean change character 0 to 1 and vice-versa.\n",
    "\n",
    "Your aim is to perform ATMOST one operation such that in final string number of 1s is maximised. If you don’t want to perform the operation, return an empty array. Else, return an array consisting of two elements denoting L and R. If there are multiple solutions, return the lexicographically smallest pair of L and R.\n",
    "\n",
    "Notes:\n",
    "\n",
    "Pair (a, b) is lexicographically smaller than pair (c, d) if a < c or, if a == c and b < d.\n",
    "For example,\n",
    "\n",
    "S = 010\n",
    "\n",
    "Pair of [L, R] | Final string\n",
    "_______________|_____________\n",
    "[1 1]          | 110\n",
    "[1 2]          | 100\n",
    "[1 3]          | 101\n",
    "[2 2]          | 000\n",
    "[2 3]          | 001\n",
    "\n",
    "We see that two pairs [1, 1] and [1, 3] give same number of 1s in final string. So, we return [1, 1].\n",
    "Another example,\n",
    "\n",
    "If S = 111\n",
    "\n",
    "No operation can give us more than three 1s in final string. So, we return empty array []."
   ]
  },
  {
   "cell_type": "code",
   "execution_count": 47,
   "metadata": {},
   "outputs": [],
   "source": [
    "def flip(A):\n",
    "    #left starts at 1\n",
    "    #1 means index 0\n",
    "    #[1, 2] means range(1, 2+1)\n",
    "    #'1101010001' should return [3,9] instead [7,9] wtf\n",
    "    if len(A) == 0: return output\n",
    "        \n",
    "    a_len = len(A)\n",
    "    a_sort_lst = []\n",
    "    current_char = A[0]\n",
    "    start_pos = 0\n",
    "    i = 0\n",
    "    while i < a_len:\n",
    "        if A[i] == current_char: pass\n",
    "        else: \n",
    "            a_sort_lst.append(A[start_pos:i])\n",
    "            start_pos = i\n",
    "            current_char = A[i]\n",
    "        i += 1\n",
    "    a_sort_lst.append(A[start_pos:i])\n",
    "    \n",
    "    sort_len = [len(x) for x in a_sort_lst]\n",
    "    \n",
    "    max_flip = 0\n",
    "    sumup = 0\n",
    "    left = 1\n",
    "    right = 0\n",
    "    ans = []\n",
    "    \n",
    "    for i in range(len(a_sort_lst)):\n",
    "        right += sort_len[i]\n",
    "        \n",
    "        if a_sort_lst[i][0] == '0':\n",
    "            sumup += sort_len[i]\n",
    "            if sumup > max_flip:\n",
    "                max_flip = sumup\n",
    "                ans = [left, right]\n",
    "        else:\n",
    "            if sumup - sort_len[i] >= 0:\n",
    "                sumup -= sort_len[i]\n",
    "            else:\n",
    "                sumup = 0\n",
    "                left = right + 1\n",
    "    return ans\n",
    "        \n",
    "                "
   ]
  },
  {
   "cell_type": "code",
   "execution_count": 48,
   "metadata": {},
   "outputs": [
    {
     "data": {
      "text/plain": [
       "[1, 17]"
      ]
     },
     "execution_count": 48,
     "metadata": {},
     "output_type": "execute_result"
    }
   ],
   "source": [
    "s = '001010101010100001'\n",
    "flip(s)"
   ]
  },
  {
   "cell_type": "code",
   "execution_count": 49,
   "metadata": {},
   "outputs": [
    {
     "data": {
      "text/plain": [
       "[3, 3]"
      ]
     },
     "execution_count": 49,
     "metadata": {},
     "output_type": "execute_result"
    }
   ],
   "source": [
    "flip('1101')"
   ]
  },
  {
   "cell_type": "code",
   "execution_count": 50,
   "metadata": {},
   "outputs": [
    {
     "data": {
      "text/plain": [
       "[3, 9]"
      ]
     },
     "execution_count": 50,
     "metadata": {},
     "output_type": "execute_result"
    }
   ],
   "source": [
    "flip('1101010001')"
   ]
  },
  {
   "cell_type": "code",
   "execution_count": null,
   "metadata": {
    "collapsed": true
   },
   "outputs": [],
   "source": [
    "#preferred solution\n",
    "class Solution:\n",
    "    # @param A : string\n",
    "    # @return a list of integers\n",
    "    def flip(self, A):\n",
    "        A=list(A)\n",
    "        n=len(A)\n",
    "        L=-1\n",
    "        for i in range(0,n):\n",
    "            if(A[i]=='0'):\n",
    "                L=i\n",
    "                break\n",
    "        if(L==-1):\n",
    "            x=[]\n",
    "            return x\n",
    "        x=[-1,-1]\n",
    "        max=0\n",
    "        count=0\n",
    "        R=L\n",
    "        for i in range(L,n):\n",
    "            if(A[i]=='0'):\n",
    "                count+=1\n",
    "            else:\n",
    "                count-=1\n",
    "            if(count>max):\n",
    "                x=[L,R]\n",
    "                max=count\n",
    "            if(count<0):\n",
    "                count=0\n",
    "                L=i+1\n",
    "            R+=1\n",
    "        if(x[0]==-1):\n",
    "            x=[]\n",
    "        else:\n",
    "            x[0]+=1\n",
    "            x[1]+=1\n",
    "        return x"
   ]
  }
 ],
 "metadata": {
  "kernelspec": {
   "display_name": "Python [default]",
   "language": "python",
   "name": "python3"
  },
  "language_info": {
   "codemirror_mode": {
    "name": "ipython",
    "version": 3
   },
   "file_extension": ".py",
   "mimetype": "text/x-python",
   "name": "python",
   "nbconvert_exporter": "python",
   "pygments_lexer": "ipython3",
   "version": "3.5.4"
  }
 },
 "nbformat": 4,
 "nbformat_minor": 2
}
