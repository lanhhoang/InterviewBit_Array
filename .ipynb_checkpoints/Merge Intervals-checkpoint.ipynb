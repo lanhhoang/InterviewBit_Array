{
 "cells": [
  {
   "cell_type": "markdown",
   "metadata": {},
   "source": [
    "Given a set of non-overlapping intervals, insert a new interval into the intervals (merge if necessary).\n",
    "\n",
    "You may assume that the intervals were initially sorted according to their start times.\n",
    "\n",
    "Example 1:\n",
    "\n",
    "Given intervals [1,3],[6,9] insert and merge [2,5] would result in [1,5],[6,9].\n",
    "\n",
    "Example 2:\n",
    "\n",
    "Given [1,2],[3,5],[6,7],[8,10],[12,16], insert and merge [4,9] would result in [1,2],[3,10],[12,16].\n",
    "\n",
    "This is because the new interval [4,9] overlaps with [3,5],[6,7],[8,10].\n",
    "\n",
    "Make sure the returned intervals are also sorted."
   ]
  },
  {
   "cell_type": "code",
   "execution_count": 33,
   "metadata": {
    "collapsed": true
   },
   "outputs": [],
   "source": [
    "def insert(intervals, new_interval):\n",
    "    #assume the intervals do not overlap with each other\n",
    "    idx = 0\n",
    "    output = []\n",
    "    if new_interval[0] > new_interval[1]:\n",
    "        n_interval = (new_interval[1], new_interval[0])\n",
    "    else: n_interval = new_interval\n",
    "    while idx < len(intervals):\n",
    "        if max(intervals[idx][0], n_interval[0]) > min(intervals[idx][1], n_interval[1]):\n",
    "            if intervals[idx][0] < n_interval[0]:\n",
    "                output.append(intervals[idx])\n",
    "            else: output.append(n_interval)\n",
    "            idx += 1\n",
    "        else: \n",
    "            intervals[idx] = (min(intervals[idx][0], n_interval[0]), max(intervals[idx][1], n_interval[1]))\n",
    "            output.append(intervals[idx])\n",
    "            idx += 1\n",
    "    if n_interval[0] > output[-1][1]: \n",
    "        output.append(n_interval)\n",
    "        return output\n",
    "    idx = 1\n",
    "    while idx < len(output):\n",
    "        if idx >= 1 and output[idx][0] <= output[idx-1][1]:\n",
    "            output[idx] = (output[idx-1][0], output[idx][1])\n",
    "            output.pop(idx - 1)\n",
    "        else: idx += 1\n",
    "    return output"
   ]
  },
  {
   "cell_type": "code",
   "execution_count": 34,
   "metadata": {},
   "outputs": [
    {
     "data": {
      "text/plain": [
       "[(1, 4), (2, 5), (3, 6), (7, 8)]"
      ]
     },
     "execution_count": 34,
     "metadata": {},
     "output_type": "execute_result"
    }
   ],
   "source": [
    "intervals = [(1,4), (2, 5), (3,6)]\n",
    "new_interval = (7,8)\n",
    "\n",
    "insert(intervals, new_interval)"
   ]
  },
  {
   "cell_type": "code",
   "execution_count": 35,
   "metadata": {},
   "outputs": [
    {
     "data": {
      "text/plain": [
       "[(1, 3), (2, 5), (6, 9), (10, 11)]"
      ]
     },
     "execution_count": 35,
     "metadata": {},
     "output_type": "execute_result"
    }
   ],
   "source": [
    "intervals = [(1,3), (2, 5), (6,9)]\n",
    "new_interval = (11, 10)\n",
    "\n",
    "insert(intervals, new_interval)"
   ]
  },
  {
   "cell_type": "markdown",
   "metadata": {},
   "source": [
    "Interval type can not be iterated / called by order."
   ]
  },
  {
   "cell_type": "code",
   "execution_count": 36,
   "metadata": {
    "collapsed": true
   },
   "outputs": [],
   "source": [
    "# Definition for an interval.\n",
    "# class Interval:\n",
    "#     def __init__(self, s=0, e=0):\n",
    "#         self.start = s\n",
    "#         self.end = e\n",
    "\n",
    "class Solution:\n",
    "    # @param intervals, a list of Intervals\n",
    "    # @param newInterval, a Interval\n",
    "    # @return a list of Interval\n",
    "    def insert(self, intervals, newInterval):\n",
    "        if len(intervals) == 0:\n",
    "            return [newInterval]\n",
    "        if newInterval.end < intervals[0].start:\n",
    "            # Before intervals, no overlap\n",
    "            return [newInterval] + intervals\n",
    "        if newInterval.start > intervals[-1].end:\n",
    "            # After intervals, no overlap\n",
    "            return intervals + [newInterval]\n",
    "        i = -1\n",
    "        j = -1\n",
    "        left = 0\n",
    "        right = len(intervals)-1\n",
    "        while left <= right:\n",
    "            mid = left + (right-left)/2\n",
    "            if intervals[mid].start < newInterval.start:\n",
    "                left = mid\n",
    "            elif intervals[mid].start > newInterval.start:\n",
    "                right = mid\n",
    "            else:\n",
    "                i = mid\n",
    "                break\n",
    "            if mid == left + (right-left)/2:\n",
    "                if intervals[right].start <= newInterval.start:\n",
    "                    i = right\n",
    "                break\n",
    "        if i == -1:\n",
    "            i = left\n",
    "        left = 0\n",
    "        right = len(intervals)-1\n",
    "        while left <= right:\n",
    "            mid = left + (right-left)/2\n",
    "            if intervals[mid].start < newInterval.end:\n",
    "                left = mid\n",
    "            elif intervals[mid].start > newInterval.end:\n",
    "                right = mid\n",
    "            else:\n",
    "                j = mid\n",
    "                break\n",
    "            if mid == left + (right-left)/2:\n",
    "                if intervals[right].start <= newInterval.end:\n",
    "                    j = right\n",
    "                break\n",
    "        if j == -1:\n",
    "            j = left\n",
    "        if i == j:\n",
    "            # Check if they actually overlap or out of it\n",
    "            if max(intervals[i].start,newInterval.start) > min(intervals[i].end,newInterval.end):\n",
    "                # They don't overlap. We need to inject this interval\n",
    "                return intervals[:i+1]+[newInterval]+intervals[i+1:]\n",
    "        if max(intervals[i].start,newInterval.start) > min(intervals[i].end,newInterval.end):\n",
    "            # Check if ith interval actually overlaps. It doesn't, so just increment\n",
    "            i += 1\n",
    "        if max(intervals[j].start,newInterval.start) > min(intervals[j].end,newInterval.end):\n",
    "            # Check if jth interval actually overlaps. It doesn't, so just decrement\n",
    "            j -= 1\n",
    "        # i and j overlap\n",
    "        leftEnd = min(intervals[i].start, newInterval.start)\n",
    "        rightEnd = max(intervals[j].end, newInterval.end)\n",
    "        newInterval = Interval(leftEnd, rightEnd)\n",
    "        intervals = intervals[:i] + [newInterval] + intervals[j+1:]\n",
    "        return intervals"
   ]
  },
  {
   "cell_type": "code",
   "execution_count": null,
   "metadata": {
    "collapsed": true
   },
   "outputs": [],
   "source": []
  }
 ],
 "metadata": {
  "kernelspec": {
   "display_name": "Python [default]",
   "language": "python",
   "name": "python3"
  },
  "language_info": {
   "codemirror_mode": {
    "name": "ipython",
    "version": 3
   },
   "file_extension": ".py",
   "mimetype": "text/x-python",
   "name": "python",
   "nbconvert_exporter": "python",
   "pygments_lexer": "ipython3",
   "version": "3.5.4"
  }
 },
 "nbformat": 4,
 "nbformat_minor": 2
}
