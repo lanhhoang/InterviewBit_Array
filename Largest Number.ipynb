{
 "cells": [
  {
   "cell_type": "markdown",
   "metadata": {},
   "source": [
    "Given a list of non negative integers, arrange them such that they form the largest number.\n",
    "\n",
    "For example:\n",
    "\n",
    "Given [3, 30, 34, 5, 9], the largest formed number is 9534330.\n",
    "\n",
    "Note: The result may be very large, so you need to return a string instead of an integer."
   ]
  },
  {
   "cell_type": "code",
   "execution_count": 7,
   "metadata": {
    "collapsed": true
   },
   "outputs": [],
   "source": [
    "def largestNumber(A):\n",
    "    maxlen = len(str(max(A)))\n",
    "    if all(v == 0 for v in A):\n",
    "        return '0'\n",
    "    return ''.join(sorted((str(v) for v in A), reverse=True,\n",
    "                        key=lambda i: i*(maxlen * 2 // len(i))))\n",
    "     "
   ]
  },
  {
   "cell_type": "code",
   "execution_count": 8,
   "metadata": {},
   "outputs": [
    {
     "data": {
      "text/plain": [
       "'9534330'"
      ]
     },
     "execution_count": 8,
     "metadata": {},
     "output_type": "execute_result"
    }
   ],
   "source": [
    "N = [3, 30, 34, 5, 9]\n",
    "largestNumber(N)"
   ]
  },
  {
   "cell_type": "code",
   "execution_count": null,
   "metadata": {
    "collapsed": true
   },
   "outputs": [],
   "source": [
    "class Num:\n",
    "    def __init__(self, v):\n",
    "        self.val = str(v)\n",
    "    \n",
    "    def __lt__(self, other):\n",
    "        return self.val + other.val < other.val + self.val\n",
    "    \n",
    "class Solution:\n",
    "    # @param A : tuple of integers\n",
    "    # @return a strings\n",
    "    def largestNumber(self, A):\n",
    "        num_list = []\n",
    "        for i in A:\n",
    "            num_list.append(Num(i))\n",
    "        \n",
    "        num_list.sort(reverse=True)\n",
    "        \n",
    "        output = []\n",
    "        for i in num_list:\n",
    "            output.append(i.val)\n",
    "        \n",
    "        if output[0][0] == '0':\n",
    "            output = ['0']\n",
    "        \n",
    "        return(''.join(output))"
   ]
  }
 ],
 "metadata": {
  "kernelspec": {
   "display_name": "Python [default]",
   "language": "python",
   "name": "python3"
  },
  "language_info": {
   "codemirror_mode": {
    "name": "ipython",
    "version": 3
   },
   "file_extension": ".py",
   "mimetype": "text/x-python",
   "name": "python",
   "nbconvert_exporter": "python",
   "pygments_lexer": "ipython3",
   "version": "3.5.4"
  }
 },
 "nbformat": 4,
 "nbformat_minor": 2
}
