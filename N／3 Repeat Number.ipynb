{
 "cells": [
  {
   "cell_type": "markdown",
   "metadata": {},
   "source": [
    "You’re given a read only array of n integers. Find out if any integer occurs more than n/3 times in the array in linear time and constant additional space.\n",
    "\n",
    "If so, return the integer. If not, return -1.\n",
    "\n",
    "If there are multiple solutions, return any one.\n",
    "\n",
    "Example :\n",
    "\n",
    "Input : [1 2 3 1 1]\n",
    "Output : 1 \n",
    "1 occurs 3 times which is more than 5/3 times. "
   ]
  },
  {
   "cell_type": "code",
   "execution_count": 1,
   "metadata": {
    "collapsed": true
   },
   "outputs": [],
   "source": [
    "from collections import Counter\n",
    "class Solution:\n",
    "    # @param A : tuple of integers\n",
    "    # @return an integer\n",
    "    def repeatedNumber(self, A):\n",
    "        a_len = len(A)\n",
    "        if a_len == 0: return -1\n",
    "        a_count = Counter(A)\n",
    "        standard = a_len/3.\n",
    "        for k, v in a_count.items():\n",
    "            if v > standard:\n",
    "                return k\n",
    "        return -1\n",
    "        "
   ]
  }
 ],
 "metadata": {
  "kernelspec": {
   "display_name": "Python [default]",
   "language": "python",
   "name": "python3"
  },
  "language_info": {
   "codemirror_mode": {
    "name": "ipython",
    "version": 3
   },
   "file_extension": ".py",
   "mimetype": "text/x-python",
   "name": "python",
   "nbconvert_exporter": "python",
   "pygments_lexer": "ipython3",
   "version": "3.5.4"
  }
 },
 "nbformat": 4,
 "nbformat_minor": 2
}
