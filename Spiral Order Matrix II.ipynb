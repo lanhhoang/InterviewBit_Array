{
 "cells": [
  {
   "cell_type": "markdown",
   "metadata": {},
   "source": [
    "Given an integer n, generate a square matrix filled with elements from 1 to n2 in spiral order.\n",
    "\n",
    "Example:\n",
    "\n",
    "Given n = 3,\n",
    "\n",
    "You should return the following matrix:\n",
    "\n",
    "[\n",
    "  [ 1, 2, 3 ],\n",
    "  [ 8, 9, 4 ],\n",
    "  [ 7, 6, 5 ]\n",
    "]"
   ]
  },
  {
   "cell_type": "code",
   "execution_count": 5,
   "metadata": {},
   "outputs": [],
   "source": [
    "class Solution:\n",
    "    # @param A : integer\n",
    "    # @return a list of list of integers\n",
    "    def generateMatrix(self, A):\n",
    "        if A <= 0: return [[]]\n",
    "        elif A == 1: return [[1]]\n",
    "        bot = A - 1\n",
    "        right = A - 1\n",
    "        top = 0\n",
    "        left = 0\n",
    "        output = []\n",
    "        for i in range(A):\n",
    "            output.append([0] * A)\n",
    "        indice = 1\n",
    "        total_indices = A * A\n",
    "        \n",
    "        while indice <= total_indices:\n",
    "            #top border\n",
    "            for i in range(left, right + 1):\n",
    "                output[top][i] = indice\n",
    "                indice += 1\n",
    "            top += 1\n",
    "            \n",
    "            if indice > total_indices: break\n",
    "            #right border\n",
    "            for i in range(top, bot + 1):\n",
    "                output[i][right] = indice\n",
    "                indice += 1\n",
    "            right -= 1\n",
    "            \n",
    "            if indice > total_indices: break\n",
    "            \n",
    "            #bot border\n",
    "            for i in range(right, left - 1, -1):\n",
    "                output[bot][i] = indice\n",
    "                indice += 1\n",
    "            bot -= 1\n",
    "            \n",
    "            if indice > total_indices: break\n",
    "        \n",
    "            #left border\n",
    "            for i in range(bot, top - 1, -1):\n",
    "                output[i][left] = indice\n",
    "                indice += 1\n",
    "            left += 1\n",
    "        \n",
    "        return output"
   ]
  },
  {
   "cell_type": "code",
   "execution_count": null,
   "metadata": {
    "collapsed": true
   },
   "outputs": [],
   "source": []
  }
 ],
 "metadata": {
  "kernelspec": {
   "display_name": "Python [default]",
   "language": "python",
   "name": "python3"
  },
  "language_info": {
   "codemirror_mode": {
    "name": "ipython",
    "version": 3
   },
   "file_extension": ".py",
   "mimetype": "text/x-python",
   "name": "python",
   "nbconvert_exporter": "python",
   "pygments_lexer": "ipython3",
   "version": "3.5.4"
  }
 },
 "nbformat": 4,
 "nbformat_minor": 2
}
