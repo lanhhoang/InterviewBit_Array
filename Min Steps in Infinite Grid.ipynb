{
 "cells": [
  {
   "cell_type": "markdown",
   "metadata": {},
   "source": [
    "You are in an infinite 2D grid where you can move in any of the 8 directions :\n",
    "\n",
    " (x,y) to \n",
    "    (x+1, y), \n",
    "    (x - 1, y), \n",
    "    (x, y+1), \n",
    "    (x, y-1), \n",
    "    (x-1, y-1), \n",
    "    (x+1,y+1), \n",
    "    (x-1,y+1), \n",
    "    (x+1,y-1) \n",
    "You are given a sequence of points and the order in which you need to cover the points. Give the minimum number of steps in which you can achieve it. You start from the first point.\n",
    "\n",
    "Example :\n",
    "\n",
    "Input : [(0, 0), (1, 1), (1, 2)]\n",
    "Output : 2\n",
    "It takes 1 step to move from (0, 0) to (1, 1). It takes one more step to move from (1, 1) to (1, 2).\n",
    "\n",
    "This question is intentionally left slightly vague. Clarify the question by trying out a few cases in the “See Expected Output” section."
   ]
  },
  {
   "cell_type": "code",
   "execution_count": null,
   "metadata": {
    "collapsed": true
   },
   "outputs": [],
   "source": [
    "def coverPoints(X, Y):\n",
    "    if len(X) == 0 or len(Y) == 0 or len(X) != len(Y): return 0\n",
    "    start_pos = (X[0], Y[0])\n",
    "    steps = 0\n",
    "    for x, y in zip(X[1:], Y[1:]):\n",
    "        x_dif = abs(x - start_pos[0])\n",
    "        y_dif = abs(y - start_pos[1])\n",
    "        steps += max(x_dif, y_dif)\n",
    "        start_pos = (x,y)\n",
    "    return steps"
   ]
  }
 ],
 "metadata": {
  "kernelspec": {
   "display_name": "Python [default]",
   "language": "python",
   "name": "python3"
  },
  "language_info": {
   "codemirror_mode": {
    "name": "ipython",
    "version": 3
   },
   "file_extension": ".py",
   "mimetype": "text/x-python",
   "name": "python",
   "nbconvert_exporter": "python",
   "pygments_lexer": "ipython3",
   "version": "3.5.4"
  }
 },
 "nbformat": 4,
 "nbformat_minor": 2
}
