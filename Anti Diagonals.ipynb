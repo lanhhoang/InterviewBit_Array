{
 "cells": [
  {
   "cell_type": "markdown",
   "metadata": {},
   "source": [
    "Give a N*N square matrix, return an array of its anti-diagonals. Look at the example for more details.\n",
    "\n",
    "Example:\n",
    "\n",
    "\t\t\n",
    "Input: \t\n",
    "\n",
    "1 2 3\n",
    "4 5 6\n",
    "7 8 9\n",
    "\n",
    "Return the following :\n",
    "\n",
    "[ \n",
    "  [1],\n",
    "  [2, 4],\n",
    "  [3, 5, 7],\n",
    "  [6, 8],\n",
    "  [9]\n",
    "]\n",
    "\n",
    "\n",
    "Input : \n",
    "1 2\n",
    "3 4\n",
    "\n",
    "Return the following  : \n",
    "\n",
    "[\n",
    "  [1],\n",
    "  [2, 3],\n",
    "  [4]\n",
    "]\n"
   ]
  },
  {
   "cell_type": "code",
   "execution_count": 18,
   "metadata": {},
   "outputs": [],
   "source": [
    "def diagonal(A):\n",
    "    output = []\n",
    "    a_len = len(A)\n",
    "    if a_len == 0: return output\n",
    "    for i in range(1, 2*(len(A))):\n",
    "        output.append([])\n",
    "        \n",
    "    rows = len(output)\n",
    "    base_line = 0\n",
    "        \n",
    "    while base_line < a_len:\n",
    "        row_idx = 0\n",
    "        col_idx = base_line\n",
    "        while col_idx >= 0:\n",
    "            output[base_line].append(A[row_idx][col_idx])\n",
    "            row_idx += 1\n",
    "            col_idx -= 1\n",
    "        base_line += 1\n",
    "    while base_line < rows:\n",
    "        row_idx = (base_line % a_len) + 1\n",
    "        col_idx = a_len-1\n",
    "        while row_idx < a_len:\n",
    "            output[base_line].append(A[row_idx][col_idx])\n",
    "            row_idx += 1\n",
    "            col_idx -= 1\n",
    "        base_line += 1\n",
    "    return output"
   ]
  },
  {
   "cell_type": "code",
   "execution_count": 19,
   "metadata": {},
   "outputs": [
    {
     "data": {
      "text/plain": [
       "[[1], [2, 5], [3, 6, 9], [4, 7, 10, 13], [8, 11, 14], [12, 15], [16]]"
      ]
     },
     "execution_count": 19,
     "metadata": {},
     "output_type": "execute_result"
    }
   ],
   "source": [
    "A = [[1,2,3,4],[5,6,7,8],[9,10,11,12],[13,14,15,16]]\n",
    "diagonal(A)"
   ]
  },
  {
   "cell_type": "code",
   "execution_count": 20,
   "metadata": {},
   "outputs": [
    {
     "data": {
      "text/plain": [
       "[[1], [2, 4], [3, 5, 7], [6, 8], [9]]"
      ]
     },
     "execution_count": 20,
     "metadata": {},
     "output_type": "execute_result"
    }
   ],
   "source": [
    "B = [[1,2,3],[4,5,6],[7,8,9]]\n",
    "diagonal(B)"
   ]
  },
  {
   "cell_type": "code",
   "execution_count": 22,
   "metadata": {},
   "outputs": [
    {
     "data": {
      "text/plain": [
       "[[1]]"
      ]
     },
     "execution_count": 22,
     "metadata": {},
     "output_type": "execute_result"
    }
   ],
   "source": [
    "C = [[1]]\n",
    "diagonal(C)"
   ]
  },
  {
   "cell_type": "code",
   "execution_count": null,
   "metadata": {
    "collapsed": true
   },
   "outputs": [],
   "source": [
    "class Solution:\n",
    "    # @param A : list of list of integers\n",
    "    # @return a list of list of integers\n",
    "    def diagonal(self, A):\n",
    "        n=len(A)\n",
    "        B=[]\n",
    "        for s in range(0,n):\n",
    "            x=[]\n",
    "            for i in range(0,s+1):\n",
    "                j=s-i\n",
    "                x.append(A[i][j])\n",
    "            B.append(x)\n",
    "        \n",
    "        for s in range(n,2*n-1):\n",
    "            x=[]\n",
    "            for i in range(s-n+1,n):\n",
    "                j=s-i\n",
    "                x.append(A[i][j])\n",
    "            B.append(x)\n",
    "        return B"
   ]
  }
 ],
 "metadata": {
  "kernelspec": {
   "display_name": "Python [default]",
   "language": "python",
   "name": "python3"
  },
  "language_info": {
   "codemirror_mode": {
    "name": "ipython",
    "version": 3
   },
   "file_extension": ".py",
   "mimetype": "text/x-python",
   "name": "python",
   "nbconvert_exporter": "python",
   "pygments_lexer": "ipython3",
   "version": "3.5.4"
  }
 },
 "nbformat": 4,
 "nbformat_minor": 2
}
