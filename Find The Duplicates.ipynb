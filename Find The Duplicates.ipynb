{
 "cells": [
  {
   "cell_type": "markdown",
   "metadata": {},
   "source": [
    "Find The Duplicates\n",
    "\n",
    "Given two sorted arrays arr1 and arr2 of passport numbers, implement a function findDuplicates that returns an array of all passport numbers that are both in arr1 and arr2. Note that the output array should be sorted in an ascending order.\n",
    "\n",
    "Let N and M be the lengths of arr1 and arr2, respectively. Solve for two cases and analyze the time & space complexities of your solutions: M ≈ N - the array lengths are approximately the same M ≫ N - arr2 is much bigger than arr1.\n",
    "\n",
    "Example:\n",
    "\n",
    "input:  arr1 = [1, 2, 3, 5, 6, 7], arr2 = [3, 6, 7, 8, 20]\n",
    "\n",
    "output: [3, 6, 7] # since only these three values are both in arr1 and arr2\n",
    "Constraints:\n",
    "\n",
    "[time limit] 5000ms\n",
    "\n",
    "[input] array.integer arr1\n",
    "\n",
    "1 ≤ arr1.length ≤ 100\n",
    "[input] array.integer arr2\n",
    "\n",
    "1 ≤ arr2.length ≤ 100\n",
    "[output] array.integer"
   ]
  },
  {
   "cell_type": "code",
   "execution_count": 5,
   "metadata": {
    "collapsed": true
   },
   "outputs": [],
   "source": [
    "def binarySearch(arr, num):\n",
    "    begin = 0\n",
    "    end = len(arr) - 1\n",
    "    \n",
    "    while begin <= end:\n",
    "        mid = int((begin+end)/2)\n",
    "        if arr[mid] < num:\n",
    "            begin = mid + 1\n",
    "        elif arr[mid] > num:\n",
    "            end = mid - 1\n",
    "        else:\n",
    "            return mid\n",
    "    return -1"
   ]
  },
  {
   "cell_type": "code",
   "execution_count": 6,
   "metadata": {
    "collapsed": true
   },
   "outputs": [],
   "source": [
    "def find_duplicates(arr1, arr2):\n",
    "    commons = []\n",
    "    \n",
    "    for num in arr1:\n",
    "        if binarySearch(arr2, num) != -1:\n",
    "            commons.append(num)\n",
    "            \n",
    "    return commons"
   ]
  },
  {
   "cell_type": "code",
   "execution_count": 7,
   "metadata": {},
   "outputs": [
    {
     "data": {
      "text/plain": [
       "[3, 6, 7]"
      ]
     },
     "execution_count": 7,
     "metadata": {},
     "output_type": "execute_result"
    }
   ],
   "source": [
    "arr1 = [1, 2, 3, 5, 6, 7]\n",
    "arr2 = [3, 6, 7, 8, 20]\n",
    "find_duplicates(arr1, arr2)"
   ]
  },
  {
   "cell_type": "code",
   "execution_count": 1,
   "metadata": {
    "collapsed": true
   },
   "outputs": [],
   "source": [
    "#apply linear method\n",
    "def find_duplicates(arr1, arr2):\n",
    "    n = len(arr1)\n",
    "    m = len(arr2)\n",
    "    output = []\n",
    "  \n",
    "    idx1 = 0\n",
    "    idx2 = 0\n",
    "  \n",
    "    while idx1 < n and idx2 < m:\n",
    "    \n",
    "        if arr1[idx1] == arr2[idx2]:\n",
    "            output.append(arr1[idx1])\n",
    "            idx1 += 1\n",
    "            idx2 += 1\n",
    "    \n",
    "        elif arr1[idx1] > arr2[idx2]:\n",
    "            idx2 += 1\n",
    "    \n",
    "        else: \n",
    "            idx1 += 1\n",
    "  \n",
    "    return output\n",
    "\n",
    "#O(n)"
   ]
  }
 ],
 "metadata": {
  "kernelspec": {
   "display_name": "Python [default]",
   "language": "python",
   "name": "python3"
  },
  "language_info": {
   "codemirror_mode": {
    "name": "ipython",
    "version": 3
   },
   "file_extension": ".py",
   "mimetype": "text/x-python",
   "name": "python",
   "nbconvert_exporter": "python",
   "pygments_lexer": "ipython3",
   "version": "3.5.4"
  }
 },
 "nbformat": 4,
 "nbformat_minor": 2
}
